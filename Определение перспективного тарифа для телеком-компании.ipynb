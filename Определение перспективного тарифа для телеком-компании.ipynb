{
 "cells": [
  {
   "cell_type": "markdown",
   "metadata": {
    "toc": true
   },
   "source": [
    "<h1>СодержаниеTable of Contents<span class=\"tocSkip\"></span></h1>\n",
    "<div class=\"toc\"><ul class=\"toc-item\"><li><span><a href=\"#Изучение-данных-из-файла\" data-toc-modified-id=\"Изучение-данных-из-файла-1\"><span class=\"toc-item-num\">1&nbsp;&nbsp;</span>Изучение данных из файла</a></span></li><li><span><a href=\"#Подготовка-данных\" data-toc-modified-id=\"Подготовка-данных-2\"><span class=\"toc-item-num\">2&nbsp;&nbsp;</span>Подготовка данных</a></span><ul class=\"toc-item\"><li><span><a href=\"#Привод-данных-к-нужным-типам\" data-toc-modified-id=\"Привод-данных-к-нужным-типам-2.1\"><span class=\"toc-item-num\">2.1&nbsp;&nbsp;</span>Привод данных к нужным типам</a></span><ul class=\"toc-item\"><li><span><a href=\"#Всего-в-данных-500-уникальных-пользователя.-На-первый-месяц-приходится-43-подключений-тарифа.-В-следующий-месяц-уже-39-подключений.-И-так-в-целом-по-стране=).-В-течение-года-количество-зарегистрированных-увеличивается,-количество-пропусков-уменьшается.-Коэффициент-отрицательной-корреляцией-между-этими-таблицами:--0.999.-Причина-пропусков-обнаружена.-Решение---ничего-не-делать.\" data-toc-modified-id=\"Всего-в-данных-500-уникальных-пользователя.-На-первый-месяц-приходится-43-подключений-тарифа.-В-следующий-месяц-уже-39-подключений.-И-так-в-целом-по-стране=).-В-течение-года-количество-зарегистрированных-увеличивается,-количество-пропусков-уменьшается.-Коэффициент-отрицательной-корреляцией-между-этими-таблицами:--0.999.-Причина-пропусков-обнаружена.-Решение---ничего-не-делать.-2.1.1\"><span class=\"toc-item-num\">2.1.1&nbsp;&nbsp;</span>Всего в данных 500 уникальных пользователя. На первый месяц приходится 43 подключений тарифа. В следующий месяц уже 39 подключений. И так в целом по стране=). В течение года количество зарегистрированных увеличивается, количество пропусков уменьшается. Коэффициент отрицательной корреляцией между этими таблицами: -0.999. Причина пропусков обнаружена. Решение - ничего не делать.</a></span></li><li><span><a href=\"#Промежуточные-выводы\" data-toc-modified-id=\"Промежуточные-выводы-2.1.2\"><span class=\"toc-item-num\">2.1.2&nbsp;&nbsp;</span>Промежуточные выводы</a></span></li></ul></li><li><span><a href=\"#Объединение-таблиц\" data-toc-modified-id=\"Объединение-таблиц-2.2\"><span class=\"toc-item-num\">2.2&nbsp;&nbsp;</span>Объединение таблиц</a></span></li><li><span><a href=\"#Обработка-пропусков\" data-toc-modified-id=\"Обработка-пропусков-2.3\"><span class=\"toc-item-num\">2.3&nbsp;&nbsp;</span>Обработка пропусков</a></span></li><li><span><a href=\"#Подсчёт-данных-для-каждого-пользователя:\" data-toc-modified-id=\"Подсчёт-данных-для-каждого-пользователя:-2.4\"><span class=\"toc-item-num\">2.4&nbsp;&nbsp;</span>Подсчёт данных для каждого пользователя:</a></span></li></ul></li><li><span><a href=\"#Исследовательский-анализ-данных\" data-toc-modified-id=\"Исследовательский-анализ-данных-3\"><span class=\"toc-item-num\">3&nbsp;&nbsp;</span>Исследовательский анализ данных</a></span><ul class=\"toc-item\"><li><span><a href=\"#Анализ-длительности-разговоров\" data-toc-modified-id=\"Анализ-длительности-разговоров-3.1\"><span class=\"toc-item-num\">3.1&nbsp;&nbsp;</span>Анализ длительности разговоров</a></span><ul class=\"toc-item\"><li><span><a href=\"#Промежуточные-выводы-по-анализу-длительности-разговоров\" data-toc-modified-id=\"Промежуточные-выводы-по-анализу-длительности-разговоров-3.1.1\"><span class=\"toc-item-num\">3.1.1&nbsp;&nbsp;</span>Промежуточные выводы по анализу длительности разговоров</a></span></li></ul></li><li><span><a href=\"#Анализ-количества-сообщений\" data-toc-modified-id=\"Анализ-количества-сообщений-3.2\"><span class=\"toc-item-num\">3.2&nbsp;&nbsp;</span>Анализ количества сообщений</a></span><ul class=\"toc-item\"><li><span><a href=\"#Промежуточные-выводы-по-анализу-количества-сообщений\" data-toc-modified-id=\"Промежуточные-выводы-по-анализу-количества-сообщений-3.2.1\"><span class=\"toc-item-num\">3.2.1&nbsp;&nbsp;</span>Промежуточные выводы по анализу количества сообщений</a></span></li></ul></li><li><span><a href=\"#Анализ-объема-трафика\" data-toc-modified-id=\"Анализ-объема-трафика-3.3\"><span class=\"toc-item-num\">3.3&nbsp;&nbsp;</span>Анализ объема трафика</a></span><ul class=\"toc-item\"><li><span><a href=\"#Промежуточные-выводы-по-анализу-объёма-трафика\" data-toc-modified-id=\"Промежуточные-выводы-по-анализу-объёма-трафика-3.3.1\"><span class=\"toc-item-num\">3.3.1&nbsp;&nbsp;</span>Промежуточные выводы по анализу объёма трафика</a></span></li></ul></li></ul></li><li><span><a href=\"#Проверка-гипотез\" data-toc-modified-id=\"Проверка-гипотез-4\"><span class=\"toc-item-num\">4&nbsp;&nbsp;</span>Проверка гипотез</a></span><ul class=\"toc-item\"><li><span><a href=\"#Проверка-первой-гипотезы\" data-toc-modified-id=\"Проверка-первой-гипотезы-4.1\"><span class=\"toc-item-num\">4.1&nbsp;&nbsp;</span>Проверка первой гипотезы</a></span><ul class=\"toc-item\"><li><span><a href=\"#Выводы-по-проверке-первой-гипотезы\" data-toc-modified-id=\"Выводы-по-проверке-первой-гипотезы-4.1.1\"><span class=\"toc-item-num\">4.1.1&nbsp;&nbsp;</span>Выводы по проверке первой гипотезы</a></span></li></ul></li><li><span><a href=\"#Проверка-второй-гипотезы\" data-toc-modified-id=\"Проверка-второй-гипотезы-4.2\"><span class=\"toc-item-num\">4.2&nbsp;&nbsp;</span>Проверка второй гипотезы</a></span><ul class=\"toc-item\"><li><span><a href=\"#Промежуточные-выводы\" data-toc-modified-id=\"Промежуточные-выводы-4.2.1\"><span class=\"toc-item-num\">4.2.1&nbsp;&nbsp;</span>Промежуточные выводы</a></span></li></ul></li></ul></li></ul></div>"
   ]
  },
  {
   "cell_type": "markdown",
   "metadata": {},
   "source": [
    "<div style=\"border:solid green 2px; padding: 20px\"> <h1 style=\"color:green; margin-bottom:20px\">Комментарий ревьюера v1</h1>\n",
    "\n",
    "Привет! Меня зовут Дмитрий Пышненко, и я буду проверять твой проект. Предлагаю общаться на «ты» если ты не против 😊 Но если нет, то дай знать, и мы перейдем на \"вы\". \n",
    "    \n",
    "Для своих комментариев я буду использовать цветовую разметку:\n",
    "\n",
    "<div class=\"alert alert-success\">\n",
    "    <b>Успех:</b> все сделано правильно.\n",
    "</div>\n",
    "<div class=\"alert alert-warning\">\n",
    "    <b>Есть замечания:</b> так выделены небольшие замечания которые не критичны, но было бы здорово исправить. Если таких замечаний немного, то такой проект может быть принят.\n",
    "</div>\n",
    "<div class=\"alert alert-danger\">\n",
    "    <b>Нужно переделать:</b> есть замечания которые необходимо исправить или доделать для сдачи проекта.\n",
    "</div>\n",
    "    \n",
    "Я буду поддерживать версионность комментариев, и при следующих итерациях я буду оставлять ячейки с новой версией v2 (v3 и.т.д.)\"\n",
    "    \n",
    "Если у тебя есть вопросы, замечания или отвечаешь на комментарии — пиши об этом. Мне будет легче отследить изменения, если ты выделишь свои комментарии: \n",
    "<div class=\"alert alert-info\"> <b>Комментарий студента:</b> Например, вот так.</div>"
   ]
  },
  {
   "cell_type": "markdown",
   "metadata": {},
   "source": [
    "<div style=\"border:solid green 2px; padding: 20px\">\n",
    "<b>Комментарий ревьюера v1:</b>\n",
    "    \n",
    "<b>Общее впечатление:</b> \n",
    "    \n",
    "- У тебя получилась хорошая работа, поздравляю! Очень чистый код и структурированный подход к решению задачи. \n",
    "- Написал несколько небольших замечаний, по ходу проекта которые необходимо исправить для сдачи проекта.\n",
    "    - Добавить округление данных.\n",
    "    - Проверить аномалии в данных.\n",
    "    - Поправить объединение таблиц и расчет выручки.\n",
    "\n",
    "Буду ждать новую версию на повторную проверку. Успехов!\n",
    "    \n",
    "</div>"
   ]
  },
  {
   "cell_type": "markdown",
   "metadata": {},
   "source": [
    "<div style=\"border:solid green 2px; padding: 20px\">\n",
    "<b>Комментарий ревьюера v2:</b>\n",
    "    \n",
    "Спасибо, что оперативно внес все исправления. Получилось почти идеально, но с маленькими последними доработками: \n",
    "    - Добавить свое решение по нулевым значениям в таблицах (calls & internet): оставить, удалить, добавить 1.\n",
    "    - Выручка все еще расчитывается некоректно (if не сохраняет результат умножения в переменную) \n",
    "    \n",
    "Буду ждать новую версию на финальное принятие работы :)  \n",
    "\n",
    "    \n",
    "</div>"
   ]
  },
  {
   "cell_type": "markdown",
   "metadata": {},
   "source": [
    "<div style=\"border:solid green 2px; padding: 20px\">\n",
    "<b>Комментарий ревьюера v3:</b>\n",
    "    \n",
    "Спасибо за терпение с еще одной итерацией :) Теперь все выполнено на отличном уровне и так и просится теперь в портфолио.   \n",
    "Желаю успехов на следующих спринтах!\n",
    "    \n",
    "</div>"
   ]
  },
  {
   "cell_type": "markdown",
   "metadata": {},
   "source": [
    "# Определение перспективного тарифа для телеком компании"
   ]
  },
  {
   "cell_type": "markdown",
   "metadata": {},
   "source": [
    "Цель: Определить выгодный тариф для корректировки рекламного бюджета. \n",
    "\n",
    "Выборка: Данные 500 пользователей «Мегалайна»: кто они, откуда, каким тарифом пользуются, сколько звонков и сообщений каждый отправил за 2018 год. \n",
    "\n",
    "Примечания: «Мегалайн» всегда округляет вверх значения минут и мегабайтов. Если пользователь проговорил всего 1 секунду, в тарифе засчитывается целая минута."
   ]
  },
  {
   "cell_type": "markdown",
   "metadata": {},
   "source": [
    "<div class=\"alert alert-warning\">\n",
    "<b>Комментарий ревьюера v1:</b>\n",
    "    \n",
    "Будет совсем хорошо, если выделить также задачи проекта отдельным абзацем, а также добавить автоматическое оглавление. \n",
    "\n",
    "При создании портфолио на гитхабе данная информация может выступать в качестве Readme файла. Прочитать про создание README можно, например, тут https://medium.com/nuances-of-programming/как-написать-хороший-readme-краткий-курс-79aede120702\n",
    "\n",
    "</div>"
   ]
  },
  {
   "cell_type": "markdown",
   "metadata": {},
   "source": [
    "<div class=\"alert alert-info\"> <b>Комментарий студента:\n",
    "</b> Добавил оглавление и содержание.</div>"
   ]
  },
  {
   "cell_type": "markdown",
   "metadata": {},
   "source": [
    "<div class=\"alert alert-success\">\n",
    "<b>Комментарий ревьюера v2:</b>\n",
    "    \n",
    "Супер, спасибо! \n",
    "</div>\n"
   ]
  },
  {
   "cell_type": "markdown",
   "metadata": {},
   "source": [
    "## Изучение данных из файла"
   ]
  },
  {
   "cell_type": "code",
   "execution_count": 1,
   "metadata": {},
   "outputs": [],
   "source": [
    "# импортируем библиотеки для исследования\n",
    "from mpl_toolkits.mplot3d import Axes3D\n",
    "from scipy import stats as st\n",
    "import numpy as np\n",
    "import pandas as pd\n",
    "import matplotlib.pyplot as plt\n",
    "import datetime\n",
    "import math\n",
    "from tqdm import tqdm\n",
    "from functools import reduce\n",
    "\n",
    "%matplotlib inline\n",
    "\n",
    "#Устанавливаем отображения количества столбцов на экране. Также укажем удобный формат вывода для чисел с плавающей точкой\n",
    "pd.options.display.float_format = '{:.3f}'.format\n",
    "pd.options.display.max_columns = 40\n",
    "\n",
    "#Отключаем предупреждения\n",
    "import warnings\n",
    "warnings.filterwarnings('ignore')"
   ]
  },
  {
   "cell_type": "code",
   "execution_count": 2,
   "metadata": {},
   "outputs": [],
   "source": [
    "#Импортируем таблицы\n",
    "calls = pd.read_csv('/datasets/calls.csv')\n",
    "internet = pd.read_csv('/datasets/internet.csv', index_col=0)\n",
    "messages = pd.read_csv('/datasets/messages.csv')\n",
    "tariffs = pd.read_csv('/datasets/tariffs.csv')\n",
    "users = pd.read_csv('/datasets/users.csv')\n",
    "#df.info()"
   ]
  },
  {
   "cell_type": "markdown",
   "metadata": {},
   "source": [
    "<div class=\"alert alert-success\">\n",
    "<b>Комментарий ревьюера v1:</b>\n",
    "    \n",
    "Здорово, что загрузка данных и библиотек сгруппирована в начале проекта. \n",
    "    \n",
    "Было бы еще удобнее разделить загрузку данных от библиотек в разных ячейках. Тогда ты в любой момент сможешь подгрузить нужные библиотеки, не перетирая датасет.\n",
    "</div>\n"
   ]
  },
  {
   "cell_type": "markdown",
   "metadata": {},
   "source": [
    "<div class=\"alert alert-info\"> <b>Комментарий студента:\n",
    "</b> Разделил.</div>"
   ]
  },
  {
   "cell_type": "markdown",
   "metadata": {},
   "source": [
    "<div class=\"alert alert-success\">\n",
    "<b>Комментарий ревьюера v2:</b>\n",
    "    \n",
    "👍\n",
    "</div>\n"
   ]
  },
  {
   "cell_type": "markdown",
   "metadata": {},
   "source": [
    "## Подготовка данных"
   ]
  },
  {
   "cell_type": "markdown",
   "metadata": {},
   "source": [
    "### Привод данных к нужным типам"
   ]
  },
  {
   "cell_type": "code",
   "execution_count": 3,
   "metadata": {},
   "outputs": [],
   "source": [
    "#Добавляем столбец с месяцем для исследования\n",
    "calls['month'] = pd.to_datetime(calls['call_date'], format='%Y-%m-%d').dt.month\n",
    "internet['month'] = pd.to_datetime(internet['session_date'], format='%Y-%m-%d').dt.month\n",
    "messages['month'] = pd.to_datetime(messages['message_date'], format='%Y-%m-%d').dt.month\n",
    "users['month_of_registration'] = pd.to_datetime(users['reg_date'], format='%Y-%m-%d').dt.month\n",
    "\n",
    "#Добавляем округления данных в большую сторону\n",
    "calls['duration'] = np.ceil(calls['duration'])\n",
    "internet['mb_used'] = np.ceil(internet['mb_used'])"
   ]
  },
  {
   "cell_type": "code",
   "execution_count": 4,
   "metadata": {},
   "outputs": [],
   "source": [
    "def my_bins(df,value):\n",
    "    \n",
    "    if df[value].max() > 100: #Если значение по столбцу больше 100, то возвращаем 50 корзин\n",
    "        return 50\n",
    "    elif df[value].max() > 500: #Если значение по столбцу больше 500, то возвращаем 100 корзин\n",
    "        return  100\n",
    "    elif df[value].max() > 1000: #Если значение по столбцу больше 1000, то возвращаем 200 корзин\n",
    "        return  200\n",
    "    else: return 20\n",
    "    \n",
    "def my_histogram(df, column):\n",
    "    display(df.head(3))\n",
    "    duplicates_in_df = df.duplicated().sum()\n",
    "    print('Число дубликатов в таблице:',duplicates_in_df)\n",
    "    df[column].plot(kind='hist', bins=my_bins(df, column), alpha=0.5, ec='black',color='blueviolet')\n",
    "    plt.axvline(x=df[column].median(), #Добавление линий на гистограмму. Говорим, покажи на гистограмме медиану по столбцу\n",
    "                linewidth=3, #Ширину линии сделай - 3\n",
    "                color='green', # Цвет зеленый\n",
    "                linestyle='--') #Стиль линии\n",
    "    plt.axvline(x=df[column].quantile(.05),\n",
    "                linewidth=3, \n",
    "                color='black', \n",
    "                linestyle='--')\n",
    "    plt.axvline(x=df[column].quantile(.95),\n",
    "                linewidth=3, \n",
    "                color='black', \n",
    "                linestyle='--')\n",
    "    plt.title('Распределение по столбцу ' + column)\n",
    "    plt.xlabel('Значение')\n",
    "    plt.ylabel('Частота')\n",
    "    plt.grid()\n",
    "    plt.show()\n",
    "    print('Информация о таблице:')\n",
    "    df.info()"
   ]
  },
  {
   "cell_type": "code",
   "execution_count": 5,
   "metadata": {},
   "outputs": [
    {
     "data": {
      "text/html": [
       "<div>\n",
       "<style scoped>\n",
       "    .dataframe tbody tr th:only-of-type {\n",
       "        vertical-align: middle;\n",
       "    }\n",
       "\n",
       "    .dataframe tbody tr th {\n",
       "        vertical-align: top;\n",
       "    }\n",
       "\n",
       "    .dataframe thead th {\n",
       "        text-align: right;\n",
       "    }\n",
       "</style>\n",
       "<table border=\"1\" class=\"dataframe\">\n",
       "  <thead>\n",
       "    <tr style=\"text-align: right;\">\n",
       "      <th></th>\n",
       "      <th>id</th>\n",
       "      <th>call_date</th>\n",
       "      <th>duration</th>\n",
       "      <th>user_id</th>\n",
       "      <th>month</th>\n",
       "    </tr>\n",
       "  </thead>\n",
       "  <tbody>\n",
       "    <tr>\n",
       "      <td>0</td>\n",
       "      <td>1000_0</td>\n",
       "      <td>2018-07-25</td>\n",
       "      <td>0.000</td>\n",
       "      <td>1000</td>\n",
       "      <td>7</td>\n",
       "    </tr>\n",
       "    <tr>\n",
       "      <td>1</td>\n",
       "      <td>1000_1</td>\n",
       "      <td>2018-08-17</td>\n",
       "      <td>0.000</td>\n",
       "      <td>1000</td>\n",
       "      <td>8</td>\n",
       "    </tr>\n",
       "    <tr>\n",
       "      <td>2</td>\n",
       "      <td>1000_2</td>\n",
       "      <td>2018-06-11</td>\n",
       "      <td>3.000</td>\n",
       "      <td>1000</td>\n",
       "      <td>6</td>\n",
       "    </tr>\n",
       "  </tbody>\n",
       "</table>\n",
       "</div>"
      ],
      "text/plain": [
       "       id   call_date  duration  user_id  month\n",
       "0  1000_0  2018-07-25     0.000     1000      7\n",
       "1  1000_1  2018-08-17     0.000     1000      8\n",
       "2  1000_2  2018-06-11     3.000     1000      6"
      ]
     },
     "metadata": {},
     "output_type": "display_data"
    },
    {
     "name": "stdout",
     "output_type": "stream",
     "text": [
      "Число дубликатов в таблице: 0\n"
     ]
    },
    {
     "data": {
      "image/png": "[encoded data removed]",
      "text/plain": [
       "<Figure size 432x288 with 1 Axes>"
      ]
     },
     "metadata": {
      "needs_background": "light"
     },
     "output_type": "display_data"
    },
    {
     "name": "stdout",
     "output_type": "stream",
     "text": [
      "Информация о таблице:\n",
      "<class 'pandas.core.frame.DataFrame'>\n",
      "RangeIndex: 202607 entries, 0 to 202606\n",
      "Data columns (total 5 columns):\n",
      "id           202607 non-null object\n",
      "call_date    202607 non-null object\n",
      "duration     202607 non-null float64\n",
      "user_id      202607 non-null int64\n",
      "month        202607 non-null int64\n",
      "dtypes: float64(1), int64(2), object(2)\n",
      "memory usage: 7.7+ MB\n"
     ]
    }
   ],
   "source": [
    "my_histogram(calls, 'duration')"
   ]
  },
  {
   "cell_type": "code",
   "execution_count": 6,
   "metadata": {},
   "outputs": [
    {
     "data": {
      "text/html": [
       "<div>\n",
       "<style scoped>\n",
       "    .dataframe tbody tr th:only-of-type {\n",
       "        vertical-align: middle;\n",
       "    }\n",
       "\n",
       "    .dataframe tbody tr th {\n",
       "        vertical-align: top;\n",
       "    }\n",
       "\n",
       "    .dataframe thead th {\n",
       "        text-align: right;\n",
       "    }\n",
       "</style>\n",
       "<table border=\"1\" class=\"dataframe\">\n",
       "  <thead>\n",
       "    <tr style=\"text-align: right;\">\n",
       "      <th></th>\n",
       "      <th>id</th>\n",
       "      <th>mb_used</th>\n",
       "      <th>session_date</th>\n",
       "      <th>user_id</th>\n",
       "      <th>month</th>\n",
       "    </tr>\n",
       "  </thead>\n",
       "  <tbody>\n",
       "    <tr>\n",
       "      <td>0</td>\n",
       "      <td>1000_0</td>\n",
       "      <td>113.000</td>\n",
       "      <td>2018-11-25</td>\n",
       "      <td>1000</td>\n",
       "      <td>11</td>\n",
       "    </tr>\n",
       "    <tr>\n",
       "      <td>1</td>\n",
       "      <td>1000_1</td>\n",
       "      <td>1053.000</td>\n",
       "      <td>2018-09-07</td>\n",
       "      <td>1000</td>\n",
       "      <td>9</td>\n",
       "    </tr>\n",
       "    <tr>\n",
       "      <td>2</td>\n",
       "      <td>1000_2</td>\n",
       "      <td>1198.000</td>\n",
       "      <td>2018-06-25</td>\n",
       "      <td>1000</td>\n",
       "      <td>6</td>\n",
       "    </tr>\n",
       "  </tbody>\n",
       "</table>\n",
       "</div>"
      ],
      "text/plain": [
       "       id  mb_used session_date  user_id  month\n",
       "0  1000_0  113.000   2018-11-25     1000     11\n",
       "1  1000_1 1053.000   2018-09-07     1000      9\n",
       "2  1000_2 1198.000   2018-06-25     1000      6"
      ]
     },
     "metadata": {},
     "output_type": "display_data"
    },
    {
     "name": "stdout",
     "output_type": "stream",
     "text": [
      "Число дубликатов в таблице: 0\n"
     ]
    },
    {
     "data": {
      "image/png": "[encoded data removed]",
      "text/plain": [
       "<Figure size 432x288 with 1 Axes>"
      ]
     },
     "metadata": {
      "needs_background": "light"
     },
     "output_type": "display_data"
    },
    {
     "name": "stdout",
     "output_type": "stream",
     "text": [
      "Информация о таблице:\n",
      "<class 'pandas.core.frame.DataFrame'>\n",
      "Int64Index: 149396 entries, 0 to 149395\n",
      "Data columns (total 5 columns):\n",
      "id              149396 non-null object\n",
      "mb_used         149396 non-null float64\n",
      "session_date    149396 non-null object\n",
      "user_id         149396 non-null int64\n",
      "month           149396 non-null int64\n",
      "dtypes: float64(1), int64(2), object(2)\n",
      "memory usage: 6.8+ MB\n"
     ]
    }
   ],
   "source": [
    "my_histogram(internet, 'mb_used')"
   ]
  },
  {
   "cell_type": "code",
   "execution_count": 7,
   "metadata": {
    "scrolled": false
   },
   "outputs": [
    {
     "data": {
      "text/plain": [
       "500"
      ]
     },
     "metadata": {},
     "output_type": "display_data"
    },
    {
     "data": {
      "text/plain": [
       "month\n",
       "1     454\n",
       "2     417\n",
       "3     383\n",
       "4     330\n",
       "5     290\n",
       "6     250\n",
       "7     206\n",
       "8     157\n",
       "9     123\n",
       "10     81\n",
       "11     48\n",
       "12     22\n",
       "dtype: int64"
      ]
     },
     "metadata": {},
     "output_type": "display_data"
    },
    {
     "data": {
      "text/plain": [
       "month\n",
       "1     449\n",
       "2     410\n",
       "3     378\n",
       "4     327\n",
       "5     287\n",
       "6     248\n",
       "7     203\n",
       "8     155\n",
       "9     122\n",
       "10     81\n",
       "11     48\n",
       "12     22\n",
       "dtype: int64"
      ]
     },
     "metadata": {},
     "output_type": "display_data"
    },
    {
     "data": {
      "text/plain": [
       "month_of_registration\n",
       "1      43\n",
       "2      82\n",
       "3     114\n",
       "4     167\n",
       "5     208\n",
       "6     248\n",
       "7     292\n",
       "8     342\n",
       "9     377\n",
       "10    422\n",
       "11    464\n",
       "12    500\n",
       "Name: reg_date, dtype: int64"
      ]
     },
     "metadata": {},
     "output_type": "display_data"
    },
    {
     "name": "stdout",
     "output_type": "stream",
     "text": [
      "-0.9993864686798218\n",
      "-0.9994136092918687\n"
     ]
    }
   ],
   "source": [
    "#Число уникальных user шв\n",
    "display(len(users['user_id'].unique()))\n",
    "\n",
    "#Число пустых значений в таблице интернет\n",
    "internet_isna = internet.pivot_table(index='user_id', columns='month', values='mb_used', aggfunc='sum').isna().sum()\n",
    "display(internet_isna)\n",
    "\n",
    "#Число пустых значений в таблице звонков\n",
    "calls_isna = calls.pivot_table(index='user_id', columns='month', values='duration', aggfunc='sum').isna().sum()\n",
    "display(calls_isna)\n",
    "\n",
    "#Число зарегистрированных пользователей по месяцам\n",
    "users_month = users.pivot_table(index='month_of_registration', aggfunc='count')['reg_date']\n",
    "#Накопленное число зарегистрированных пользователей\n",
    "reg_cumsum = np.cumsum(users_month)\n",
    "display(reg_cumsum)\n",
    "\n",
    "#Коэффициент корреляции между пропусками и числом зарегистрированных пользователей в течение года. \n",
    "print(internet_isna.corr(reg_cumsum))\n",
    "print(calls_isna.corr(reg_cumsum))"
   ]
  },
  {
   "cell_type": "markdown",
   "metadata": {},
   "source": [
    "#### Всего в данных 500 уникальных пользователя. На первый месяц приходится 43 подключений тарифа. В следующий месяц уже 39 подключений. И так в целом по стране=). В течение года количество зарегистрированных увеличивается, количество пропусков уменьшается. Коэффициент отрицательной корреляцией между этими таблицами: -0.999. Причина пропусков обнаружена. Решение - ничего не делать. "
   ]
  },
  {
   "cell_type": "code",
   "execution_count": 8,
   "metadata": {},
   "outputs": [
    {
     "data": {
      "text/html": [
       "<div>\n",
       "<style scoped>\n",
       "    .dataframe tbody tr th:only-of-type {\n",
       "        vertical-align: middle;\n",
       "    }\n",
       "\n",
       "    .dataframe tbody tr th {\n",
       "        vertical-align: top;\n",
       "    }\n",
       "\n",
       "    .dataframe thead th {\n",
       "        text-align: right;\n",
       "    }\n",
       "</style>\n",
       "<table border=\"1\" class=\"dataframe\">\n",
       "  <thead>\n",
       "    <tr style=\"text-align: right;\">\n",
       "      <th></th>\n",
       "      <th>id</th>\n",
       "      <th>message_date</th>\n",
       "      <th>user_id</th>\n",
       "      <th>month</th>\n",
       "    </tr>\n",
       "  </thead>\n",
       "  <tbody>\n",
       "    <tr>\n",
       "      <td>0</td>\n",
       "      <td>1000_0</td>\n",
       "      <td>2018-06-27</td>\n",
       "      <td>1000</td>\n",
       "      <td>6</td>\n",
       "    </tr>\n",
       "    <tr>\n",
       "      <td>1</td>\n",
       "      <td>1000_1</td>\n",
       "      <td>2018-10-08</td>\n",
       "      <td>1000</td>\n",
       "      <td>10</td>\n",
       "    </tr>\n",
       "    <tr>\n",
       "      <td>2</td>\n",
       "      <td>1000_2</td>\n",
       "      <td>2018-08-04</td>\n",
       "      <td>1000</td>\n",
       "      <td>8</td>\n",
       "    </tr>\n",
       "  </tbody>\n",
       "</table>\n",
       "</div>"
      ],
      "text/plain": [
       "       id message_date  user_id  month\n",
       "0  1000_0   2018-06-27     1000      6\n",
       "1  1000_1   2018-10-08     1000     10\n",
       "2  1000_2   2018-08-04     1000      8"
      ]
     },
     "metadata": {},
     "output_type": "display_data"
    },
    {
     "name": "stdout",
     "output_type": "stream",
     "text": [
      "Число дубликатов в таблице: 0\n"
     ]
    },
    {
     "data": {
      "image/png": "[encoded data removed]",
      "text/plain": [
       "<Figure size 432x288 with 1 Axes>"
      ]
     },
     "metadata": {
      "needs_background": "light"
     },
     "output_type": "display_data"
    },
    {
     "name": "stdout",
     "output_type": "stream",
     "text": [
      "Информация о таблице:\n",
      "<class 'pandas.core.frame.DataFrame'>\n",
      "RangeIndex: 123036 entries, 0 to 123035\n",
      "Data columns (total 4 columns):\n",
      "id              123036 non-null object\n",
      "message_date    123036 non-null object\n",
      "user_id         123036 non-null int64\n",
      "month           123036 non-null int64\n",
      "dtypes: int64(2), object(2)\n",
      "memory usage: 3.8+ MB\n"
     ]
    }
   ],
   "source": [
    "my_histogram(messages, 'user_id')"
   ]
  },
  {
   "cell_type": "code",
   "execution_count": 9,
   "metadata": {},
   "outputs": [
    {
     "data": {
      "text/html": [
       "<div>\n",
       "<style scoped>\n",
       "    .dataframe tbody tr th:only-of-type {\n",
       "        vertical-align: middle;\n",
       "    }\n",
       "\n",
       "    .dataframe tbody tr th {\n",
       "        vertical-align: top;\n",
       "    }\n",
       "\n",
       "    .dataframe thead th {\n",
       "        text-align: right;\n",
       "    }\n",
       "</style>\n",
       "<table border=\"1\" class=\"dataframe\">\n",
       "  <thead>\n",
       "    <tr style=\"text-align: right;\">\n",
       "      <th></th>\n",
       "      <th>messages_included</th>\n",
       "      <th>mb_per_month_included</th>\n",
       "      <th>minutes_included</th>\n",
       "      <th>rub_monthly_fee</th>\n",
       "      <th>rub_per_gb</th>\n",
       "      <th>rub_per_message</th>\n",
       "      <th>rub_per_minute</th>\n",
       "      <th>tariff_name</th>\n",
       "    </tr>\n",
       "  </thead>\n",
       "  <tbody>\n",
       "    <tr>\n",
       "      <td>0</td>\n",
       "      <td>50</td>\n",
       "      <td>15360</td>\n",
       "      <td>500</td>\n",
       "      <td>550</td>\n",
       "      <td>200</td>\n",
       "      <td>3</td>\n",
       "      <td>3</td>\n",
       "      <td>smart</td>\n",
       "    </tr>\n",
       "    <tr>\n",
       "      <td>1</td>\n",
       "      <td>1000</td>\n",
       "      <td>30720</td>\n",
       "      <td>3000</td>\n",
       "      <td>1950</td>\n",
       "      <td>150</td>\n",
       "      <td>1</td>\n",
       "      <td>1</td>\n",
       "      <td>ultra</td>\n",
       "    </tr>\n",
       "  </tbody>\n",
       "</table>\n",
       "</div>"
      ],
      "text/plain": [
       "   messages_included  mb_per_month_included  minutes_included  \\\n",
       "0                 50                  15360               500   \n",
       "1               1000                  30720              3000   \n",
       "\n",
       "   rub_monthly_fee  rub_per_gb  rub_per_message  rub_per_minute tariff_name  \n",
       "0              550         200                3               3       smart  \n",
       "1             1950         150                1               1       ultra  "
      ]
     },
     "metadata": {},
     "output_type": "display_data"
    },
    {
     "name": "stdout",
     "output_type": "stream",
     "text": [
      "Число дубликатов в таблице: 0\n"
     ]
    },
    {
     "data": {
      "image/png": "[encoded data removed]",
      "text/plain": [
       "<Figure size 432x288 with 1 Axes>"
      ]
     },
     "metadata": {
      "needs_background": "light"
     },
     "output_type": "display_data"
    },
    {
     "name": "stdout",
     "output_type": "stream",
     "text": [
      "Информация о таблице:\n",
      "<class 'pandas.core.frame.DataFrame'>\n",
      "RangeIndex: 2 entries, 0 to 1\n",
      "Data columns (total 8 columns):\n",
      "messages_included        2 non-null int64\n",
      "mb_per_month_included    2 non-null int64\n",
      "minutes_included         2 non-null int64\n",
      "rub_monthly_fee          2 non-null int64\n",
      "rub_per_gb               2 non-null int64\n",
      "rub_per_message          2 non-null int64\n",
      "rub_per_minute           2 non-null int64\n",
      "tariff_name              2 non-null object\n",
      "dtypes: int64(7), object(1)\n",
      "memory usage: 256.0+ bytes\n"
     ]
    }
   ],
   "source": [
    "my_histogram(tariffs, 'rub_monthly_fee')"
   ]
  },
  {
   "cell_type": "markdown",
   "metadata": {},
   "source": [
    "#### Промежуточные выводы"
   ]
  },
  {
   "cell_type": "markdown",
   "metadata": {},
   "source": [
    "Дубликатов в таблице не обнаружено. Число строк в таблицах messages, internet и calls отличается. Причина: разный период активности. В какие-то месяца используют Интернет, сообщения, звонки, а в какие-то нет. "
   ]
  },
  {
   "cell_type": "code",
   "execution_count": 10,
   "metadata": {},
   "outputs": [],
   "source": [
    "#Удаляем лишние столбцы в данных\n",
    "internet.drop(['id', 'session_date'], axis=1, inplace=True)\n",
    "calls.drop(['call_date','id'], axis=1, inplace=True)\n",
    "messages.drop('id', axis=1,inplace=True)\n",
    "users.drop(['first_name', 'last_name'], axis=1, inplace=True)"
   ]
  },
  {
   "cell_type": "markdown",
   "metadata": {},
   "source": [
    "<div class=\"alert alert-warning\">\n",
    "<b>Комментарий ревьюера v1:</b>\n",
    "\n",
    "- Unnamed: 0 возникает, когда данные сохраняют с указанием индекса pd.DataFrame().to_csv(..., index=column). Если при чтении указать этот столбец pd.read_csv(..., index_col=0) - данные сразу прочитаются корректно. Index_col =0 означает, что первый столбец выбирается как индекс.    \n",
    "- Было бы также полезно проверить данные на дубликаты и вывести хотя бы первые три строки, чтобы иметь представление, что внутри.\n",
    "- Вижу, что ты удаляешь много столбцов из данных, но никак не объясняешь почему эти данные нам не пригодятся (например, по churn date можно понять активен ли еще пользователь или нет).\n",
    "    \n",
    "</div>"
   ]
  },
  {
   "cell_type": "markdown",
   "metadata": {},
   "source": [
    "<div class=\"alert alert-info\"> <b>Комментарий студента:</b> Значения в таблицах округлил в большую сторону. Построил гистограммы по этим значениям. Отобразил число дубликатов (их нет) и информацию о таблице с помощью метода info(). Столбец Unnamed: 0 прочитал как индекс при загрузке файла. Churn Date, reg_date и age не стал удалять на случай дальнейших исследований </div>"
   ]
  },
  {
   "cell_type": "markdown",
   "metadata": {},
   "source": [
    "### Объединение таблиц"
   ]
  },
  {
   "cell_type": "code",
   "execution_count": 11,
   "metadata": {},
   "outputs": [],
   "source": [
    "#Создаём сводные таблицы по данным\n",
    "calls_pivot_table = calls.pivot_table(index=['user_id', 'month'], values='duration', aggfunc=['sum', 'count'])\n",
    "calls_pivot_table.columns = ['calls_duration_sum', 'calls_duration_count']\n",
    "messages_pivot_table = messages.pivot_table(index=['user_id', 'month'], values='message_date', aggfunc='count')\n",
    "messages_pivot_table.columns=['message_count']\n",
    "internet_pivot_table = internet.pivot_table(index=['user_id', 'month'], values='mb_used', aggfunc='sum')\n",
    "internet_pivot_table.columns=['mb_used_sum']\n",
    "\n",
    "#Меняем название одного столбца для объединения таблиц \n",
    "tariffs = tariffs.rename(columns={'tariff_name': 'tariff'})\n",
    "\n",
    "#Объединяем таблицы\n",
    "df = calls_pivot_table\n",
    "df = df.join(messages_pivot_table, how='outer')\n",
    "df = df.join(internet_pivot_table, how='outer')\n",
    "df = df.reset_index()\n",
    "df = df.merge(users, on='user_id', how='left')\n",
    "df = df.merge(tariffs, on='tariff', how='left')"
   ]
  },
  {
   "cell_type": "markdown",
   "metadata": {},
   "source": [
    "<div class=\"alert alert-info\"> <b>Комментарий студента:</b> Добавил методу join параметр how='outer', чтобы попадали все значения в таблицу. </div>"
   ]
  },
  {
   "cell_type": "markdown",
   "metadata": {},
   "source": [
    "<div class=\"alert alert-success\">\n",
    "<b>Комментарий ревьюера v2:</b>\n",
    "    \n",
    "Теперь отлично! \n",
    "\n",
    "Кстати, можно сгруппировать 3 таблицы одновременно с помощью reduce. Почитать можно тут:\n",
    "https://www.codegrepper.com/code-examples/python/merge+more+than+2+dataframes+in+pandas\n",
    "\n",
    "\n",
    "</div>\n"
   ]
  },
  {
   "cell_type": "markdown",
   "metadata": {},
   "source": [
    "### Обработка пропусков"
   ]
  },
  {
   "cell_type": "code",
   "execution_count": 12,
   "metadata": {},
   "outputs": [
    {
     "data": {
      "text/html": [
       "<style  type=\"text/css\" >\n",
       "    #T_b1e465c6_f60e_11eb_856d_02420a396dearow0_col0 {\n",
       "            background-color:  #fff7fb;\n",
       "            color:  #000000;\n",
       "        }    #T_b1e465c6_f60e_11eb_856d_02420a396dearow1_col0 {\n",
       "            background-color:  #fff7fb;\n",
       "            color:  #000000;\n",
       "        }    #T_b1e465c6_f60e_11eb_856d_02420a396dearow2_col0 {\n",
       "            background-color:  #fff7fb;\n",
       "            color:  #000000;\n",
       "        }    #T_b1e465c6_f60e_11eb_856d_02420a396dearow3_col0 {\n",
       "            background-color:  #fff7fb;\n",
       "            color:  #000000;\n",
       "        }    #T_b1e465c6_f60e_11eb_856d_02420a396dearow4_col0 {\n",
       "            background-color:  #fff7fb;\n",
       "            color:  #000000;\n",
       "        }    #T_b1e465c6_f60e_11eb_856d_02420a396dearow5_col0 {\n",
       "            background-color:  #fff7fb;\n",
       "            color:  #000000;\n",
       "        }    #T_b1e465c6_f60e_11eb_856d_02420a396dearow6_col0 {\n",
       "            background-color:  #fff7fb;\n",
       "            color:  #000000;\n",
       "        }    #T_b1e465c6_f60e_11eb_856d_02420a396dearow7_col0 {\n",
       "            background-color:  #fff7fb;\n",
       "            color:  #000000;\n",
       "        }    #T_b1e465c6_f60e_11eb_856d_02420a396dearow8_col0 {\n",
       "            background-color:  #fff7fb;\n",
       "            color:  #000000;\n",
       "        }    #T_b1e465c6_f60e_11eb_856d_02420a396dearow9_col0 {\n",
       "            background-color:  #fff7fb;\n",
       "            color:  #000000;\n",
       "        }    #T_b1e465c6_f60e_11eb_856d_02420a396dearow10_col0 {\n",
       "            background-color:  #fff7fb;\n",
       "            color:  #000000;\n",
       "        }    #T_b1e465c6_f60e_11eb_856d_02420a396dearow11_col0 {\n",
       "            background-color:  #fff7fb;\n",
       "            color:  #000000;\n",
       "        }    #T_b1e465c6_f60e_11eb_856d_02420a396dearow12_col0 {\n",
       "            background-color:  #fff7fb;\n",
       "            color:  #000000;\n",
       "        }    #T_b1e465c6_f60e_11eb_856d_02420a396dearow13_col0 {\n",
       "            background-color:  #fff7fb;\n",
       "            color:  #000000;\n",
       "        }    #T_b1e465c6_f60e_11eb_856d_02420a396dearow14_col0 {\n",
       "            background-color:  #fff7fb;\n",
       "            color:  #000000;\n",
       "        }    #T_b1e465c6_f60e_11eb_856d_02420a396dearow15_col0 {\n",
       "            background-color:  #fff7fb;\n",
       "            color:  #000000;\n",
       "        }    #T_b1e465c6_f60e_11eb_856d_02420a396dearow16_col0 {\n",
       "            background-color:  #fff7fb;\n",
       "            color:  #000000;\n",
       "        }    #T_b1e465c6_f60e_11eb_856d_02420a396dearow17_col0 {\n",
       "            background-color:  #fff7fb;\n",
       "            color:  #000000;\n",
       "        }    #T_b1e465c6_f60e_11eb_856d_02420a396dearow18_col0 {\n",
       "            background-color:  #fff7fb;\n",
       "            color:  #000000;\n",
       "        }</style><table id=\"T_b1e465c6_f60e_11eb_856d_02420a396dea\" ><thead>    <tr>        <th class=\"blank level0\" ></th>        <th class=\"col_heading level0 col0\" >0</th>    </tr></thead><tbody>\n",
       "                <tr>\n",
       "                        <th id=\"T_b1e465c6_f60e_11eb_856d_02420a396dealevel0_row0\" class=\"row_heading level0 row0\" >user_id</th>\n",
       "                        <td id=\"T_b1e465c6_f60e_11eb_856d_02420a396dearow0_col0\" class=\"data row0 col0\" >0</td>\n",
       "            </tr>\n",
       "            <tr>\n",
       "                        <th id=\"T_b1e465c6_f60e_11eb_856d_02420a396dealevel0_row1\" class=\"row_heading level0 row1\" >month</th>\n",
       "                        <td id=\"T_b1e465c6_f60e_11eb_856d_02420a396dearow1_col0\" class=\"data row1 col0\" >0</td>\n",
       "            </tr>\n",
       "            <tr>\n",
       "                        <th id=\"T_b1e465c6_f60e_11eb_856d_02420a396dealevel0_row2\" class=\"row_heading level0 row2\" >calls_duration_sum</th>\n",
       "                        <td id=\"T_b1e465c6_f60e_11eb_856d_02420a396dearow2_col0\" class=\"data row2 col0\" >0</td>\n",
       "            </tr>\n",
       "            <tr>\n",
       "                        <th id=\"T_b1e465c6_f60e_11eb_856d_02420a396dealevel0_row3\" class=\"row_heading level0 row3\" >calls_duration_count</th>\n",
       "                        <td id=\"T_b1e465c6_f60e_11eb_856d_02420a396dearow3_col0\" class=\"data row3 col0\" >0</td>\n",
       "            </tr>\n",
       "            <tr>\n",
       "                        <th id=\"T_b1e465c6_f60e_11eb_856d_02420a396dealevel0_row4\" class=\"row_heading level0 row4\" >message_count</th>\n",
       "                        <td id=\"T_b1e465c6_f60e_11eb_856d_02420a396dearow4_col0\" class=\"data row4 col0\" >0</td>\n",
       "            </tr>\n",
       "            <tr>\n",
       "                        <th id=\"T_b1e465c6_f60e_11eb_856d_02420a396dealevel0_row5\" class=\"row_heading level0 row5\" >mb_used_sum</th>\n",
       "                        <td id=\"T_b1e465c6_f60e_11eb_856d_02420a396dearow5_col0\" class=\"data row5 col0\" >0</td>\n",
       "            </tr>\n",
       "            <tr>\n",
       "                        <th id=\"T_b1e465c6_f60e_11eb_856d_02420a396dealevel0_row6\" class=\"row_heading level0 row6\" >age</th>\n",
       "                        <td id=\"T_b1e465c6_f60e_11eb_856d_02420a396dearow6_col0\" class=\"data row6 col0\" >0</td>\n",
       "            </tr>\n",
       "            <tr>\n",
       "                        <th id=\"T_b1e465c6_f60e_11eb_856d_02420a396dealevel0_row7\" class=\"row_heading level0 row7\" >churn_date</th>\n",
       "                        <td id=\"T_b1e465c6_f60e_11eb_856d_02420a396dearow7_col0\" class=\"data row7 col0\" >0</td>\n",
       "            </tr>\n",
       "            <tr>\n",
       "                        <th id=\"T_b1e465c6_f60e_11eb_856d_02420a396dealevel0_row8\" class=\"row_heading level0 row8\" >city</th>\n",
       "                        <td id=\"T_b1e465c6_f60e_11eb_856d_02420a396dearow8_col0\" class=\"data row8 col0\" >0</td>\n",
       "            </tr>\n",
       "            <tr>\n",
       "                        <th id=\"T_b1e465c6_f60e_11eb_856d_02420a396dealevel0_row9\" class=\"row_heading level0 row9\" >reg_date</th>\n",
       "                        <td id=\"T_b1e465c6_f60e_11eb_856d_02420a396dearow9_col0\" class=\"data row9 col0\" >0</td>\n",
       "            </tr>\n",
       "            <tr>\n",
       "                        <th id=\"T_b1e465c6_f60e_11eb_856d_02420a396dealevel0_row10\" class=\"row_heading level0 row10\" >tariff</th>\n",
       "                        <td id=\"T_b1e465c6_f60e_11eb_856d_02420a396dearow10_col0\" class=\"data row10 col0\" >0</td>\n",
       "            </tr>\n",
       "            <tr>\n",
       "                        <th id=\"T_b1e465c6_f60e_11eb_856d_02420a396dealevel0_row11\" class=\"row_heading level0 row11\" >month_of_registration</th>\n",
       "                        <td id=\"T_b1e465c6_f60e_11eb_856d_02420a396dearow11_col0\" class=\"data row11 col0\" >0</td>\n",
       "            </tr>\n",
       "            <tr>\n",
       "                        <th id=\"T_b1e465c6_f60e_11eb_856d_02420a396dealevel0_row12\" class=\"row_heading level0 row12\" >messages_included</th>\n",
       "                        <td id=\"T_b1e465c6_f60e_11eb_856d_02420a396dearow12_col0\" class=\"data row12 col0\" >0</td>\n",
       "            </tr>\n",
       "            <tr>\n",
       "                        <th id=\"T_b1e465c6_f60e_11eb_856d_02420a396dealevel0_row13\" class=\"row_heading level0 row13\" >mb_per_month_included</th>\n",
       "                        <td id=\"T_b1e465c6_f60e_11eb_856d_02420a396dearow13_col0\" class=\"data row13 col0\" >0</td>\n",
       "            </tr>\n",
       "            <tr>\n",
       "                        <th id=\"T_b1e465c6_f60e_11eb_856d_02420a396dealevel0_row14\" class=\"row_heading level0 row14\" >minutes_included</th>\n",
       "                        <td id=\"T_b1e465c6_f60e_11eb_856d_02420a396dearow14_col0\" class=\"data row14 col0\" >0</td>\n",
       "            </tr>\n",
       "            <tr>\n",
       "                        <th id=\"T_b1e465c6_f60e_11eb_856d_02420a396dealevel0_row15\" class=\"row_heading level0 row15\" >rub_monthly_fee</th>\n",
       "                        <td id=\"T_b1e465c6_f60e_11eb_856d_02420a396dearow15_col0\" class=\"data row15 col0\" >0</td>\n",
       "            </tr>\n",
       "            <tr>\n",
       "                        <th id=\"T_b1e465c6_f60e_11eb_856d_02420a396dealevel0_row16\" class=\"row_heading level0 row16\" >rub_per_gb</th>\n",
       "                        <td id=\"T_b1e465c6_f60e_11eb_856d_02420a396dearow16_col0\" class=\"data row16 col0\" >0</td>\n",
       "            </tr>\n",
       "            <tr>\n",
       "                        <th id=\"T_b1e465c6_f60e_11eb_856d_02420a396dealevel0_row17\" class=\"row_heading level0 row17\" >rub_per_message</th>\n",
       "                        <td id=\"T_b1e465c6_f60e_11eb_856d_02420a396dearow17_col0\" class=\"data row17 col0\" >0</td>\n",
       "            </tr>\n",
       "            <tr>\n",
       "                        <th id=\"T_b1e465c6_f60e_11eb_856d_02420a396dealevel0_row18\" class=\"row_heading level0 row18\" >rub_per_minute</th>\n",
       "                        <td id=\"T_b1e465c6_f60e_11eb_856d_02420a396dearow18_col0\" class=\"data row18 col0\" >0</td>\n",
       "            </tr>\n",
       "    </tbody></table>"
      ],
      "text/plain": [
       "<pandas.io.formats.style.Styler at 0x7ff570478f90>"
      ]
     },
     "execution_count": 12,
     "metadata": {},
     "output_type": "execute_result"
    }
   ],
   "source": [
    "#Заполняем пропуски в столбцам 'message_count' и 'mb_used_sum' нулями\n",
    "df = df.fillna(0)\n",
    "pd.DataFrame(round((df.isna().mean()*100),2)).style.background_gradient('PuBu', low=0.1, high=0.9)"
   ]
  },
  {
   "cell_type": "markdown",
   "metadata": {},
   "source": [
    "<div class=\"alert alert-success\">\n",
    "<b>Комментарий ревьюера v1:</b>\n",
    "\n",
    "Все верно! \n",
    "</div>\n"
   ]
  },
  {
   "cell_type": "markdown",
   "metadata": {},
   "source": [
    "### Подсчёт данных для каждого пользователя:\n"
   ]
  },
  {
   "cell_type": "markdown",
   "metadata": {},
   "source": [
    "- количество сделанных звонков и израсходованных минут разговора по месяцам;\n",
    "- количество отправленных сообщений по месяцам;\n",
    "- объем израсходованного интернет-трафика по месяцам;\n",
    "- помесячную выручку с каждого пользователя "
   ]
  },
  {
   "cell_type": "code",
   "execution_count": 13,
   "metadata": {},
   "outputs": [],
   "source": [
    "def where_is_my_money(data):\n",
    "    revenue = 0\n",
    "    difference_calls = data['calls_duration_sum'] - data['minutes_included']\n",
    "    if (difference_calls > 0): \n",
    "        difference_calls = difference_calls * data['rub_per_minute']\n",
    "    else:\n",
    "        difference_calls = 0\n",
    "        \n",
    "    diff_messages = data['message_count'] - data['messages_included']\n",
    "    if (diff_messages > 0): \n",
    "        diff_messages = diff_messages * data['rub_per_message']\n",
    "    else:\n",
    "        diff_messages = 0\n",
    "        \n",
    "    diff_mb = data['mb_used_sum'] - data['mb_per_month_included']\n",
    "    if (diff_mb > 0):\n",
    "        diff_mb = diff_mb/1024 * data['rub_per_gb']\n",
    "    else:\n",
    "        diff_mb = 0\n",
    "        \n",
    "    revenue = difference_calls + diff_messages + diff_mb + data['rub_monthly_fee']\n",
    "    return revenue"
   ]
  },
  {
   "cell_type": "code",
   "execution_count": 14,
   "metadata": {},
   "outputs": [
    {
     "data": {
      "text/html": [
       "<div>\n",
       "<style scoped>\n",
       "    .dataframe tbody tr th:only-of-type {\n",
       "        vertical-align: middle;\n",
       "    }\n",
       "\n",
       "    .dataframe tbody tr th {\n",
       "        vertical-align: top;\n",
       "    }\n",
       "\n",
       "    .dataframe thead th {\n",
       "        text-align: right;\n",
       "    }\n",
       "</style>\n",
       "<table border=\"1\" class=\"dataframe\">\n",
       "  <thead>\n",
       "    <tr style=\"text-align: right;\">\n",
       "      <th></th>\n",
       "      <th>user_id</th>\n",
       "      <th>month</th>\n",
       "      <th>calls_duration_sum</th>\n",
       "      <th>calls_duration_count</th>\n",
       "      <th>message_count</th>\n",
       "      <th>mb_used_sum</th>\n",
       "      <th>age</th>\n",
       "      <th>churn_date</th>\n",
       "      <th>city</th>\n",
       "      <th>reg_date</th>\n",
       "      <th>tariff</th>\n",
       "      <th>month_of_registration</th>\n",
       "      <th>messages_included</th>\n",
       "      <th>mb_per_month_included</th>\n",
       "      <th>minutes_included</th>\n",
       "      <th>rub_monthly_fee</th>\n",
       "      <th>rub_per_gb</th>\n",
       "      <th>rub_per_message</th>\n",
       "      <th>rub_per_minute</th>\n",
       "      <th>revenue</th>\n",
       "    </tr>\n",
       "  </thead>\n",
       "  <tbody>\n",
       "    <tr>\n",
       "      <td>468</td>\n",
       "      <td>1073</td>\n",
       "      <td>10</td>\n",
       "      <td>461.000</td>\n",
       "      <td>70.000</td>\n",
       "      <td>34.000</td>\n",
       "      <td>16873.000</td>\n",
       "      <td>63</td>\n",
       "      <td>0</td>\n",
       "      <td>Владикавказ</td>\n",
       "      <td>2018-10-04</td>\n",
       "      <td>smart</td>\n",
       "      <td>10</td>\n",
       "      <td>50</td>\n",
       "      <td>15360</td>\n",
       "      <td>500</td>\n",
       "      <td>550</td>\n",
       "      <td>200</td>\n",
       "      <td>3</td>\n",
       "      <td>3</td>\n",
       "      <td>845.508</td>\n",
       "    </tr>\n",
       "    <tr>\n",
       "      <td>469</td>\n",
       "      <td>1073</td>\n",
       "      <td>11</td>\n",
       "      <td>334.000</td>\n",
       "      <td>45.000</td>\n",
       "      <td>29.000</td>\n",
       "      <td>12428.000</td>\n",
       "      <td>63</td>\n",
       "      <td>0</td>\n",
       "      <td>Владикавказ</td>\n",
       "      <td>2018-10-04</td>\n",
       "      <td>smart</td>\n",
       "      <td>10</td>\n",
       "      <td>50</td>\n",
       "      <td>15360</td>\n",
       "      <td>500</td>\n",
       "      <td>550</td>\n",
       "      <td>200</td>\n",
       "      <td>3</td>\n",
       "      <td>3</td>\n",
       "      <td>550.000</td>\n",
       "    </tr>\n",
       "    <tr>\n",
       "      <td>470</td>\n",
       "      <td>1073</td>\n",
       "      <td>12</td>\n",
       "      <td>533.000</td>\n",
       "      <td>71.000</td>\n",
       "      <td>27.000</td>\n",
       "      <td>15795.000</td>\n",
       "      <td>63</td>\n",
       "      <td>0</td>\n",
       "      <td>Владикавказ</td>\n",
       "      <td>2018-10-04</td>\n",
       "      <td>smart</td>\n",
       "      <td>10</td>\n",
       "      <td>50</td>\n",
       "      <td>15360</td>\n",
       "      <td>500</td>\n",
       "      <td>550</td>\n",
       "      <td>200</td>\n",
       "      <td>3</td>\n",
       "      <td>3</td>\n",
       "      <td>733.961</td>\n",
       "    </tr>\n",
       "  </tbody>\n",
       "</table>\n",
       "</div>"
      ],
      "text/plain": [
       "     user_id  month  calls_duration_sum  calls_duration_count  message_count  \\\n",
       "468     1073     10             461.000                70.000         34.000   \n",
       "469     1073     11             334.000                45.000         29.000   \n",
       "470     1073     12             533.000                71.000         27.000   \n",
       "\n",
       "     mb_used_sum  age churn_date         city    reg_date tariff  \\\n",
       "468    16873.000   63          0  Владикавказ  2018-10-04  smart   \n",
       "469    12428.000   63          0  Владикавказ  2018-10-04  smart   \n",
       "470    15795.000   63          0  Владикавказ  2018-10-04  smart   \n",
       "\n",
       "     month_of_registration  messages_included  mb_per_month_included  \\\n",
       "468                     10                 50                  15360   \n",
       "469                     10                 50                  15360   \n",
       "470                     10                 50                  15360   \n",
       "\n",
       "     minutes_included  rub_monthly_fee  rub_per_gb  rub_per_message  \\\n",
       "468               500              550         200                3   \n",
       "469               500              550         200                3   \n",
       "470               500              550         200                3   \n",
       "\n",
       "     rub_per_minute  revenue  \n",
       "468               3  845.508  \n",
       "469               3  550.000  \n",
       "470               3  733.961  "
      ]
     },
     "execution_count": 14,
     "metadata": {},
     "output_type": "execute_result"
    }
   ],
   "source": [
    "df['revenue'] = df.apply(where_is_my_money, axis=1)\n",
    "\n",
    "#Дополнительная проверка для пользователя 1073\n",
    "df[df['user_id'] == 1073]"
   ]
  },
  {
   "cell_type": "markdown",
   "metadata": {},
   "source": [
    "## Исследовательский анализ данных"
   ]
  },
  {
   "cell_type": "markdown",
   "metadata": {},
   "source": [
    "Цель: опишите поведение клиентов оператора, исходя из выборки. Сколько минут разговора, сколько сообщений и какой объём интернет-трафика требуется пользователям каждого тарифа в месяц? Посчитайте среднее количество, дисперсию и стандартное отклонение. Постройте гистограммы. Опишите распределения."
   ]
  },
  {
   "cell_type": "code",
   "execution_count": 15,
   "metadata": {},
   "outputs": [],
   "source": [
    "#Создаём функцию для расчёта описательной статистики. P.S - знаю, что у функций есть минусы (скорость работы). \n",
    "#Но для учёбы - их лучше научиться делать, а на больших данных уже использовать loc и т.д\n",
    "def descriptive_statistics(column):\n",
    "    smart_2 = df.loc[df['tariff'] == 'smart'][column]\n",
    "    ultra_2 = df.loc[df['tariff'] == 'ultra'][column]\n",
    "    smart_mean = np.mean(smart_2)\n",
    "    ultra_mean = np.mean(ultra_2)\n",
    "    smart_var = np.var(smart_2, ddof=1)\n",
    "    ultra_var = np.var(ultra_2, ddof=1)\n",
    "    smart_std = np.std(smart_2, ddof=1)\n",
    "    ultra_std = np.std(ultra_2, ddof=1)\n",
    "    print('Описательная статистика по столбцу', column)\n",
    "    print(f'smart_mean is {smart_mean:.0f}')\n",
    "    print(f'ultra_mean is {ultra_mean:.0f}')\n",
    "    print(f'smart_var is {smart_var:.0f}')\n",
    "    print(f'ultra_var is {ultra_var:.0f}')\n",
    "    print(f'smart_var is {smart_std:.0f}')\n",
    "    print(f'ultra_var is {ultra_std:.0f}')"
   ]
  },
  {
   "cell_type": "code",
   "execution_count": 16,
   "metadata": {},
   "outputs": [],
   "source": [
    "#Создаём функцию для отображения графиков\n",
    "def my_plot(data, values, kind, title, xlabel, ylabel, alpha):\n",
    "    if alpha == 0.5: \n",
    "        data.pivot_table(index='tariff', columns='month', values=values,\n",
    "                                      aggfunc='mean').T.plot(kind=kind, alpha=alpha, grid=True)\n",
    "        plt.title(title)\n",
    "        plt.xlabel(xlabel)\n",
    "        plt.ylabel(ylabel)\n",
    "    else: \n",
    "        data.pivot_table(index='tariff',columns='month', values=values,\n",
    "                           aggfunc='mean').T.plot(kind=kind, grid=True)\n",
    "        plt.title(title)\n",
    "        plt.xlabel(xlabel)\n",
    "        plt.ylabel(ylabel)"
   ]
  },
  {
   "cell_type": "code",
   "execution_count": 17,
   "metadata": {},
   "outputs": [],
   "source": [
    "# Создаём функцию распределения средних значений для автоматизации построения графиков\n",
    "def mean_distribution(column): \n",
    "    smart = [] \n",
    "    ultra = []\n",
    "    df_smart = df[df['tariff']=='smart']\n",
    "    df_ultra = df[df['tariff']=='ultra']\n",
    "    len_smart = len(df_smart) \n",
    "    len_ultra = len(df_ultra)\n",
    "    for _ in tqdm(range(10000)):\n",
    "        sample_smart = np.random.choice(df_smart[column], size=len_smart, replace=True)\n",
    "        sample_ultra = np.random.choice(df_ultra[column], size=len_ultra, replace=True)\n",
    "        smart.append(sample_smart.mean())\n",
    "        ultra.append(sample_ultra.mean())\n",
    "    fig, ax = plt.subplots(nrows=1, ncols=1, figsize=(15,5))\n",
    "    ax.set_title('Группы A и B (распределение средних). Фиолетовый цвет - smart, Оранжевый - ultra')\n",
    "    ax.hist(smart, bins=100, color='blueviolet', alpha=0.5)\n",
    "    ax.hist(ultra, bins=100, color='orange', alpha=0.5)\n",
    "    fig.tight_layout()"
   ]
  },
  {
   "cell_type": "code",
   "execution_count": 18,
   "metadata": {},
   "outputs": [],
   "source": [
    "#Создаём функцию проверки распределения на нормальность + тест Стьюдента\n",
    "def distribution_ttest(column, alpha):\n",
    "    df_smart = df[df['tariff']=='smart'][column]\n",
    "    df_ultra = df[df['tariff']=='ultra'][column]\n",
    "    print('H0 - данные в тарифе smart по столбцу', column,'распределены нормально')\n",
    "    print('H1 - данные в тарифе smart по столбцу', column,'распределены не нормально')\n",
    "    print('')\n",
    "    x1,y1 = st.shapiro(df_smart)\n",
    "    print('p-value', y1)\n",
    "    if y1 < alpha: print('Отвергаем нулевую гипотезу о нормальности распределения тарифа smart')\n",
    "    else: print('Не удалось отвергнуть нулевую гипотезу о нормальности распределения тарифа smart')\n",
    "    x2,y2 = st.shapiro(df_ultra)\n",
    "    print('p-value', y2)\n",
    "    if y2 < alpha: print('Отвергаем нулевую гипотезу о нормальности распределения тарифа ultra')\n",
    "    else: print('Не удалось отвергнуть нулевую гипотезу о нормальности распределения ultra')\n",
    "    print('')\n",
    "    print('H0 - дисперсии выборок по столбцу', column,'равны')\n",
    "    print('H1 - дисперсии выборок по столбцу', column,'не равны')\n",
    "    print('')\n",
    "    results_levene = st.levene(df_smart, df_ultra)\n",
    "    print('p-значение:', results_levene.pvalue)\n",
    "    if (results_levene.pvalue < alpha):print('Отвергаем нулевую гипотезу о равенстве дисперсии выборок')\n",
    "    else: print('Не получилось отвергнуть нулевую гипотезу о равенстве дисперсии выборок')\n",
    "    results = st.ttest_ind(df_smart,df_ultra,equal_var = False)\n",
    "    print('')\n",
    "    print('H0 - средние значения тарифов по столбцу', column,'равны')\n",
    "    print('H1 - средние двух тарифов по столбцу', column,'не равны')\n",
    "    print('')\n",
    "    print('p-value', results.pvalue)\n",
    "    if results.pvalue < alpha: print('Отвергаем нулевую гипотезу о равенстве двух средних')\n",
    "    else: print('Не удалось отвергнуть нулевую гипотезу о равенстве двух средних')"
   ]
  },
  {
   "cell_type": "code",
   "execution_count": 36,
   "metadata": {},
   "outputs": [
    {
     "ename": "NameError",
     "evalue": "name 'df_smart' is not defined",
     "output_type": "error",
     "traceback": [
      "\u001b[0;31m---------------------------------------------------------------------------\u001b[0m",
      "\u001b[0;31mNameError\u001b[0m                                 Traceback (most recent call last)",
      "\u001b[0;32m<ipython-input-36-9ee916349a61>\u001b[0m in \u001b[0;36m<module>\u001b[0;34m\u001b[0m\n\u001b[0;32m----> 1\u001b[0;31m \u001b[0mdf_smart\u001b[0m\u001b[0;34m\u001b[0m\u001b[0;34m\u001b[0m\u001b[0m\n\u001b[0m",
      "\u001b[0;31mNameError\u001b[0m: name 'df_smart' is not defined"
     ]
    }
   ],
   "source": []
  },
  {
   "cell_type": "markdown",
   "metadata": {},
   "source": [
    "<div class=\"alert alert-success\">\n",
    "<b>Комментарий ревьюера v1:</b>\n",
    "\n",
    "Работает и правда не быстро, но зато графики получились очень наглядные.\n",
    "</div>\n"
   ]
  },
  {
   "cell_type": "markdown",
   "metadata": {},
   "source": [
    "### Анализ длительности разговоров"
   ]
  },
  {
   "cell_type": "code",
   "execution_count": 19,
   "metadata": {},
   "outputs": [
    {
     "name": "stdout",
     "output_type": "stream",
     "text": [
      "Описательная статистика по столбцу calls_duration_sum\n",
      "smart_mean is 418\n",
      "ultra_mean is 527\n",
      "smart_var is 36219\n",
      "ultra_var is 100874\n",
      "smart_var is 190\n",
      "ultra_var is 318\n"
     ]
    }
   ],
   "source": [
    "#Средняя длительность телефонных разговоров. \n",
    "descriptive_statistics('calls_duration_sum')"
   ]
  },
  {
   "cell_type": "code",
   "execution_count": 20,
   "metadata": {},
   "outputs": [
    {
     "data": {
      "text/html": [
       "<div>\n",
       "<style scoped>\n",
       "    .dataframe tbody tr th:only-of-type {\n",
       "        vertical-align: middle;\n",
       "    }\n",
       "\n",
       "    .dataframe tbody tr th {\n",
       "        vertical-align: top;\n",
       "    }\n",
       "\n",
       "    .dataframe thead th {\n",
       "        text-align: right;\n",
       "    }\n",
       "</style>\n",
       "<table border=\"1\" class=\"dataframe\">\n",
       "  <thead>\n",
       "    <tr style=\"text-align: right;\">\n",
       "      <th>tariff</th>\n",
       "      <th>smart</th>\n",
       "      <th>ultra</th>\n",
       "    </tr>\n",
       "    <tr>\n",
       "      <th>month</th>\n",
       "      <th></th>\n",
       "      <th></th>\n",
       "    </tr>\n",
       "  </thead>\n",
       "  <tbody>\n",
       "    <tr>\n",
       "      <td>1</td>\n",
       "      <td>203.853</td>\n",
       "      <td>428.111</td>\n",
       "    </tr>\n",
       "    <tr>\n",
       "      <td>2</td>\n",
       "      <td>298.690</td>\n",
       "      <td>297.125</td>\n",
       "    </tr>\n",
       "    <tr>\n",
       "      <td>3</td>\n",
       "      <td>390.052</td>\n",
       "      <td>489.649</td>\n",
       "    </tr>\n",
       "    <tr>\n",
       "      <td>4</td>\n",
       "      <td>367.134</td>\n",
       "      <td>458.018</td>\n",
       "    </tr>\n",
       "    <tr>\n",
       "      <td>5</td>\n",
       "      <td>387.362</td>\n",
       "      <td>510.328</td>\n",
       "    </tr>\n",
       "    <tr>\n",
       "      <td>6</td>\n",
       "      <td>395.640</td>\n",
       "      <td>479.702</td>\n",
       "    </tr>\n",
       "    <tr>\n",
       "      <td>7</td>\n",
       "      <td>408.353</td>\n",
       "      <td>545.791</td>\n",
       "    </tr>\n",
       "    <tr>\n",
       "      <td>8</td>\n",
       "      <td>421.468</td>\n",
       "      <td>510.776</td>\n",
       "    </tr>\n",
       "    <tr>\n",
       "      <td>9</td>\n",
       "      <td>428.612</td>\n",
       "      <td>539.443</td>\n",
       "    </tr>\n",
       "    <tr>\n",
       "      <td>10</td>\n",
       "      <td>426.136</td>\n",
       "      <td>558.081</td>\n",
       "    </tr>\n",
       "    <tr>\n",
       "      <td>11</td>\n",
       "      <td>435.266</td>\n",
       "      <td>541.381</td>\n",
       "    </tr>\n",
       "    <tr>\n",
       "      <td>12</td>\n",
       "      <td>478.561</td>\n",
       "      <td>592.806</td>\n",
       "    </tr>\n",
       "  </tbody>\n",
       "</table>\n",
       "</div>"
      ],
      "text/plain": [
       "tariff   smart   ultra\n",
       "month                 \n",
       "1      203.853 428.111\n",
       "2      298.690 297.125\n",
       "3      390.052 489.649\n",
       "4      367.134 458.018\n",
       "5      387.362 510.328\n",
       "6      395.640 479.702\n",
       "7      408.353 545.791\n",
       "8      421.468 510.776\n",
       "9      428.612 539.443\n",
       "10     426.136 558.081\n",
       "11     435.266 541.381\n",
       "12     478.561 592.806"
      ]
     },
     "execution_count": 20,
     "metadata": {},
     "output_type": "execute_result"
    }
   ],
   "source": [
    "df.pivot_table(index='tariff', columns='month', values='calls_duration_sum',\n",
    "                                      aggfunc='mean').T"
   ]
  },
  {
   "cell_type": "code",
   "execution_count": 21,
   "metadata": {},
   "outputs": [
    {
     "name": "stderr",
     "output_type": "stream",
     "text": [
      "100%|██████████| 10000/10000 [00:01<00:00, 5724.01it/s]\n"
     ]
    },
    {
     "data": {
      "image/png": "[encoded data removed]",
      "text/plain": [
       "<Figure size 432x288 with 1 Axes>"
      ]
     },
     "metadata": {
      "needs_background": "light"
     },
     "output_type": "display_data"
    },
    {
     "data": {
      "image/png": "[encoded data removed]",
      "text/plain": [
       "<Figure size 432x288 with 1 Axes>"
      ]
     },
     "metadata": {
      "needs_background": "light"
     },
     "output_type": "display_data"
    },
    {
     "data": {
      "image/png": "[encoded data removed]",
      "text/plain": [
       "<Figure size 432x288 with 1 Axes>"
      ]
     },
     "metadata": {
      "needs_background": "light"
     },
     "output_type": "display_data"
    },
    {
     "data": {
      "image/png": "[encoded data removed]",
      "text/plain": [
       "<Figure size 1080x360 with 1 Axes>"
      ]
     },
     "metadata": {
      "needs_background": "light"
     },
     "output_type": "display_data"
    }
   ],
   "source": [
    "my_plot(df,'calls_duration_sum', 'hist', 'Распределение длительности звонков по двум тарифам', 'Количество минут', 'Частота', 0.5)\n",
    "my_plot(df,'calls_duration_sum', 'bar', 'Распределение длительности звонков по двум тарифам', 'Месяц', 'Количество минут', 0.5)\n",
    "my_plot(df,'calls_duration_sum', 'box', 'Распределение длительности звонков по двум тарифам', 'Тариф', 'Количество минут', 1)\n",
    "mean_distribution('calls_duration_sum')"
   ]
  },
  {
   "cell_type": "code",
   "execution_count": 22,
   "metadata": {},
   "outputs": [
    {
     "name": "stdout",
     "output_type": "stream",
     "text": [
      "H0 - данные в тарифе smart по столбцу calls_duration_sum распределены нормально\n",
      "H1 - данные в тарифе smart по столбцу calls_duration_sum распределены не нормально\n",
      "\n",
      "p-value 7.081803943265186e-08\n",
      "Отвергаем нулевую гипотезу о нормальности распределения тарифа smart\n",
      "p-value 3.640921453218482e-10\n",
      "Отвергаем нулевую гипотезу о нормальности распределения тарифа ultra\n",
      "\n",
      "H0 - дисперсии выборок по столбцу calls_duration_sum равны\n",
      "H1 - дисперсии выборок по столбцу calls_duration_sum не равны\n",
      "\n",
      "p-значение: 2.2235504088859893e-82\n",
      "Отвергаем нулевую гипотезу о равенстве дисперсии выборок\n",
      "\n",
      "H0 - средние значения тарифов по столбцу calls_duration_sum равны\n",
      "H1 - средние двух тарифов по столбцу calls_duration_sum не равны\n",
      "\n",
      "p-value 1.2032214002512902e-22\n",
      "Отвергаем нулевую гипотезу о равенстве двух средних\n"
     ]
    }
   ],
   "source": [
    "distribution_ttest('calls_duration_sum', 0.05)"
   ]
  },
  {
   "cell_type": "markdown",
   "metadata": {},
   "source": [
    "#### Промежуточные выводы по анализу длительности разговоров"
   ]
  },
  {
   "cell_type": "markdown",
   "metadata": {},
   "source": [
    "Средняя продолжительность разговора у пользователей тарифа Ultra больше, чем у пользователей тарифа Smart. Медиана и среднее у тарифа Smart в районе - 390 минут. У тарифа Ultra в районе 505 минут. Нулевая гипотеза о равенстве двух средних отклонена. \n",
    "\n",
    "Минимальная активность у абонентов тарифа Smart приходится на январь, у тарифа Ultra на февраль. В течение года у тарифа Smart наблюдается увеличение длительности разговоров. Можно говорить о линейной зависимости Пиковые значения у обоих тарифов приходятся на декабрь."
   ]
  },
  {
   "cell_type": "code",
   "execution_count": null,
   "metadata": {},
   "outputs": [],
   "source": []
  },
  {
   "cell_type": "markdown",
   "metadata": {},
   "source": [
    "### Анализ количества сообщений"
   ]
  },
  {
   "cell_type": "code",
   "execution_count": 23,
   "metadata": {},
   "outputs": [
    {
     "name": "stdout",
     "output_type": "stream",
     "text": [
      "Описательная статистика по столбцу message_count\n",
      "smart_mean is 33\n",
      "ultra_mean is 49\n",
      "smart_var is 797\n",
      "ultra_var is 2285\n",
      "smart_var is 28\n",
      "ultra_var is 48\n"
     ]
    }
   ],
   "source": [
    "descriptive_statistics('message_count')"
   ]
  },
  {
   "cell_type": "code",
   "execution_count": 24,
   "metadata": {},
   "outputs": [
    {
     "name": "stderr",
     "output_type": "stream",
     "text": [
      "100%|██████████| 10000/10000 [00:01<00:00, 5784.37it/s]\n"
     ]
    },
    {
     "data": {
      "image/png": "[encoded data removed]",
      "text/plain": [
       "<Figure size 432x288 with 1 Axes>"
      ]
     },
     "metadata": {
      "needs_background": "light"
     },
     "output_type": "display_data"
    },
    {
     "data": {
      "image/png": "[encoded data removed]",
      "text/plain": [
       "<Figure size 432x288 with 1 Axes>"
      ]
     },
     "metadata": {
      "needs_background": "light"
     },
     "output_type": "display_data"
    },
    {
     "data": {
      "image/png": "[encoded data removed]",
      "text/plain": [
       "<Figure size 432x288 with 1 Axes>"
      ]
     },
     "metadata": {
      "needs_background": "light"
     },
     "output_type": "display_data"
    },
    {
     "data": {
      "image/png": "[encoded data removed]",
      "text/plain": [
       "<Figure size 1080x360 with 1 Axes>"
      ]
     },
     "metadata": {
      "needs_background": "light"
     },
     "output_type": "display_data"
    }
   ],
   "source": [
    "my_plot(df,'message_count', 'hist', 'Распределение количества сообщений по двум тарифам', 'Количество сообщений', 'Частота', 0.5)\n",
    "my_plot(df,'message_count', 'bar', 'Распределение количества сообщений по двум тарифам', 'Месяц', 'Количество сообщений', 0.5)\n",
    "my_plot(df,'message_count', 'box', 'Распределение количества сообщений по двум тарифам', 'Тариф', 'Количество сообщений', 1)\n",
    "mean_distribution('message_count')\n"
   ]
  },
  {
   "cell_type": "code",
   "execution_count": 25,
   "metadata": {},
   "outputs": [
    {
     "name": "stdout",
     "output_type": "stream",
     "text": [
      "H0 - данные в тарифе smart по столбцу message_count распределены нормально\n",
      "H1 - данные в тарифе smart по столбцу message_count распределены не нормально\n",
      "\n",
      "p-value 9.37411311924115e-32\n",
      "Отвергаем нулевую гипотезу о нормальности распределения тарифа smart\n",
      "p-value 7.074727697746792e-26\n",
      "Отвергаем нулевую гипотезу о нормальности распределения тарифа ultra\n",
      "\n",
      "H0 - дисперсии выборок по столбцу message_count равны\n",
      "H1 - дисперсии выборок по столбцу message_count не равны\n",
      "\n",
      "p-значение: 2.5167945568091724e-65\n",
      "Отвергаем нулевую гипотезу о равенстве дисперсии выборок\n",
      "\n",
      "H0 - средние значения тарифов по столбцу message_count равны\n",
      "H1 - средние двух тарифов по столбцу message_count не равны\n",
      "\n",
      "p-value 8.729206603931645e-22\n",
      "Отвергаем нулевую гипотезу о равенстве двух средних\n"
     ]
    }
   ],
   "source": [
    "distribution_ttest('message_count', 0.05)"
   ]
  },
  {
   "cell_type": "code",
   "execution_count": 37,
   "metadata": {},
   "outputs": [
    {
     "data": {
      "text/html": [
       "<div>\n",
       "<style scoped>\n",
       "    .dataframe tbody tr th:only-of-type {\n",
       "        vertical-align: middle;\n",
       "    }\n",
       "\n",
       "    .dataframe tbody tr th {\n",
       "        vertical-align: top;\n",
       "    }\n",
       "\n",
       "    .dataframe thead th {\n",
       "        text-align: right;\n",
       "    }\n",
       "</style>\n",
       "<table border=\"1\" class=\"dataframe\">\n",
       "  <thead>\n",
       "    <tr style=\"text-align: right;\">\n",
       "      <th></th>\n",
       "      <th>user_id</th>\n",
       "      <th>month</th>\n",
       "      <th>calls_duration_sum</th>\n",
       "      <th>calls_duration_count</th>\n",
       "      <th>message_count</th>\n",
       "      <th>mb_used_sum</th>\n",
       "      <th>age</th>\n",
       "      <th>churn_date</th>\n",
       "      <th>city</th>\n",
       "      <th>reg_date</th>\n",
       "      <th>tariff</th>\n",
       "      <th>month_of_registration</th>\n",
       "      <th>messages_included</th>\n",
       "      <th>mb_per_month_included</th>\n",
       "      <th>minutes_included</th>\n",
       "      <th>rub_monthly_fee</th>\n",
       "      <th>rub_per_gb</th>\n",
       "      <th>rub_per_message</th>\n",
       "      <th>rub_per_minute</th>\n",
       "      <th>revenue</th>\n",
       "      <th>moscow_is_not_russia</th>\n",
       "    </tr>\n",
       "  </thead>\n",
       "  <tbody>\n",
       "    <tr>\n",
       "      <td>0</td>\n",
       "      <td>1000</td>\n",
       "      <td>5</td>\n",
       "      <td>159.000</td>\n",
       "      <td>22.000</td>\n",
       "      <td>22.000</td>\n",
       "      <td>2256.000</td>\n",
       "      <td>52</td>\n",
       "      <td>0</td>\n",
       "      <td>Краснодар</td>\n",
       "      <td>2018-05-25</td>\n",
       "      <td>ultra</td>\n",
       "      <td>5</td>\n",
       "      <td>1000</td>\n",
       "      <td>30720</td>\n",
       "      <td>3000</td>\n",
       "      <td>1950</td>\n",
       "      <td>150</td>\n",
       "      <td>1</td>\n",
       "      <td>1</td>\n",
       "      <td>1950.000</td>\n",
       "      <td>Россия</td>\n",
       "    </tr>\n",
       "    <tr>\n",
       "      <td>1</td>\n",
       "      <td>1000</td>\n",
       "      <td>6</td>\n",
       "      <td>172.000</td>\n",
       "      <td>43.000</td>\n",
       "      <td>60.000</td>\n",
       "      <td>23257.000</td>\n",
       "      <td>52</td>\n",
       "      <td>0</td>\n",
       "      <td>Краснодар</td>\n",
       "      <td>2018-05-25</td>\n",
       "      <td>ultra</td>\n",
       "      <td>5</td>\n",
       "      <td>1000</td>\n",
       "      <td>30720</td>\n",
       "      <td>3000</td>\n",
       "      <td>1950</td>\n",
       "      <td>150</td>\n",
       "      <td>1</td>\n",
       "      <td>1</td>\n",
       "      <td>1950.000</td>\n",
       "      <td>Россия</td>\n",
       "    </tr>\n",
       "    <tr>\n",
       "      <td>2</td>\n",
       "      <td>1000</td>\n",
       "      <td>7</td>\n",
       "      <td>340.000</td>\n",
       "      <td>47.000</td>\n",
       "      <td>75.000</td>\n",
       "      <td>14016.000</td>\n",
       "      <td>52</td>\n",
       "      <td>0</td>\n",
       "      <td>Краснодар</td>\n",
       "      <td>2018-05-25</td>\n",
       "      <td>ultra</td>\n",
       "      <td>5</td>\n",
       "      <td>1000</td>\n",
       "      <td>30720</td>\n",
       "      <td>3000</td>\n",
       "      <td>1950</td>\n",
       "      <td>150</td>\n",
       "      <td>1</td>\n",
       "      <td>1</td>\n",
       "      <td>1950.000</td>\n",
       "      <td>Россия</td>\n",
       "    </tr>\n",
       "    <tr>\n",
       "      <td>3</td>\n",
       "      <td>1000</td>\n",
       "      <td>8</td>\n",
       "      <td>408.000</td>\n",
       "      <td>52.000</td>\n",
       "      <td>81.000</td>\n",
       "      <td>14070.000</td>\n",
       "      <td>52</td>\n",
       "      <td>0</td>\n",
       "      <td>Краснодар</td>\n",
       "      <td>2018-05-25</td>\n",
       "      <td>ultra</td>\n",
       "      <td>5</td>\n",
       "      <td>1000</td>\n",
       "      <td>30720</td>\n",
       "      <td>3000</td>\n",
       "      <td>1950</td>\n",
       "      <td>150</td>\n",
       "      <td>1</td>\n",
       "      <td>1</td>\n",
       "      <td>1950.000</td>\n",
       "      <td>Россия</td>\n",
       "    </tr>\n",
       "    <tr>\n",
       "      <td>4</td>\n",
       "      <td>1000</td>\n",
       "      <td>9</td>\n",
       "      <td>466.000</td>\n",
       "      <td>58.000</td>\n",
       "      <td>57.000</td>\n",
       "      <td>14581.000</td>\n",
       "      <td>52</td>\n",
       "      <td>0</td>\n",
       "      <td>Краснодар</td>\n",
       "      <td>2018-05-25</td>\n",
       "      <td>ultra</td>\n",
       "      <td>5</td>\n",
       "      <td>1000</td>\n",
       "      <td>30720</td>\n",
       "      <td>3000</td>\n",
       "      <td>1950</td>\n",
       "      <td>150</td>\n",
       "      <td>1</td>\n",
       "      <td>1</td>\n",
       "      <td>1950.000</td>\n",
       "      <td>Россия</td>\n",
       "    </tr>\n",
       "    <tr>\n",
       "      <td>...</td>\n",
       "      <td>...</td>\n",
       "      <td>...</td>\n",
       "      <td>...</td>\n",
       "      <td>...</td>\n",
       "      <td>...</td>\n",
       "      <td>...</td>\n",
       "      <td>...</td>\n",
       "      <td>...</td>\n",
       "      <td>...</td>\n",
       "      <td>...</td>\n",
       "      <td>...</td>\n",
       "      <td>...</td>\n",
       "      <td>...</td>\n",
       "      <td>...</td>\n",
       "      <td>...</td>\n",
       "      <td>...</td>\n",
       "      <td>...</td>\n",
       "      <td>...</td>\n",
       "      <td>...</td>\n",
       "      <td>...</td>\n",
       "      <td>...</td>\n",
       "    </tr>\n",
       "    <tr>\n",
       "      <td>3209</td>\n",
       "      <td>1498</td>\n",
       "      <td>10</td>\n",
       "      <td>247.000</td>\n",
       "      <td>41.000</td>\n",
       "      <td>42.000</td>\n",
       "      <td>20604.000</td>\n",
       "      <td>68</td>\n",
       "      <td>2018-10-25</td>\n",
       "      <td>Владикавказ</td>\n",
       "      <td>2018-07-19</td>\n",
       "      <td>smart</td>\n",
       "      <td>7</td>\n",
       "      <td>50</td>\n",
       "      <td>15360</td>\n",
       "      <td>500</td>\n",
       "      <td>550</td>\n",
       "      <td>200</td>\n",
       "      <td>3</td>\n",
       "      <td>3</td>\n",
       "      <td>1574.219</td>\n",
       "      <td>Россия</td>\n",
       "    </tr>\n",
       "    <tr>\n",
       "      <td>3210</td>\n",
       "      <td>1499</td>\n",
       "      <td>9</td>\n",
       "      <td>70.000</td>\n",
       "      <td>9.000</td>\n",
       "      <td>11.000</td>\n",
       "      <td>1848.000</td>\n",
       "      <td>35</td>\n",
       "      <td>0</td>\n",
       "      <td>Пермь</td>\n",
       "      <td>2018-09-27</td>\n",
       "      <td>smart</td>\n",
       "      <td>9</td>\n",
       "      <td>50</td>\n",
       "      <td>15360</td>\n",
       "      <td>500</td>\n",
       "      <td>550</td>\n",
       "      <td>200</td>\n",
       "      <td>3</td>\n",
       "      <td>3</td>\n",
       "      <td>550.000</td>\n",
       "      <td>Россия</td>\n",
       "    </tr>\n",
       "    <tr>\n",
       "      <td>3211</td>\n",
       "      <td>1499</td>\n",
       "      <td>10</td>\n",
       "      <td>449.000</td>\n",
       "      <td>68.000</td>\n",
       "      <td>48.000</td>\n",
       "      <td>17809.000</td>\n",
       "      <td>35</td>\n",
       "      <td>0</td>\n",
       "      <td>Пермь</td>\n",
       "      <td>2018-09-27</td>\n",
       "      <td>smart</td>\n",
       "      <td>9</td>\n",
       "      <td>50</td>\n",
       "      <td>15360</td>\n",
       "      <td>500</td>\n",
       "      <td>550</td>\n",
       "      <td>200</td>\n",
       "      <td>3</td>\n",
       "      <td>3</td>\n",
       "      <td>1028.320</td>\n",
       "      <td>Россия</td>\n",
       "    </tr>\n",
       "    <tr>\n",
       "      <td>3212</td>\n",
       "      <td>1499</td>\n",
       "      <td>11</td>\n",
       "      <td>612.000</td>\n",
       "      <td>74.000</td>\n",
       "      <td>59.000</td>\n",
       "      <td>17984.000</td>\n",
       "      <td>35</td>\n",
       "      <td>0</td>\n",
       "      <td>Пермь</td>\n",
       "      <td>2018-09-27</td>\n",
       "      <td>smart</td>\n",
       "      <td>9</td>\n",
       "      <td>50</td>\n",
       "      <td>15360</td>\n",
       "      <td>500</td>\n",
       "      <td>550</td>\n",
       "      <td>200</td>\n",
       "      <td>3</td>\n",
       "      <td>3</td>\n",
       "      <td>1425.500</td>\n",
       "      <td>Россия</td>\n",
       "    </tr>\n",
       "    <tr>\n",
       "      <td>3213</td>\n",
       "      <td>1499</td>\n",
       "      <td>12</td>\n",
       "      <td>492.000</td>\n",
       "      <td>69.000</td>\n",
       "      <td>66.000</td>\n",
       "      <td>13077.000</td>\n",
       "      <td>35</td>\n",
       "      <td>0</td>\n",
       "      <td>Пермь</td>\n",
       "      <td>2018-09-27</td>\n",
       "      <td>smart</td>\n",
       "      <td>9</td>\n",
       "      <td>50</td>\n",
       "      <td>15360</td>\n",
       "      <td>500</td>\n",
       "      <td>550</td>\n",
       "      <td>200</td>\n",
       "      <td>3</td>\n",
       "      <td>3</td>\n",
       "      <td>598.000</td>\n",
       "      <td>Россия</td>\n",
       "    </tr>\n",
       "  </tbody>\n",
       "</table>\n",
       "<p>3214 rows × 21 columns</p>\n",
       "</div>"
      ],
      "text/plain": [
       "      user_id  month  calls_duration_sum  calls_duration_count  message_count  \\\n",
       "0        1000      5             159.000                22.000         22.000   \n",
       "1        1000      6             172.000                43.000         60.000   \n",
       "2        1000      7             340.000                47.000         75.000   \n",
       "3        1000      8             408.000                52.000         81.000   \n",
       "4        1000      9             466.000                58.000         57.000   \n",
       "...       ...    ...                 ...                   ...            ...   \n",
       "3209     1498     10             247.000                41.000         42.000   \n",
       "3210     1499      9              70.000                 9.000         11.000   \n",
       "3211     1499     10             449.000                68.000         48.000   \n",
       "3212     1499     11             612.000                74.000         59.000   \n",
       "3213     1499     12             492.000                69.000         66.000   \n",
       "\n",
       "      mb_used_sum  age  churn_date         city    reg_date tariff  \\\n",
       "0        2256.000   52           0    Краснодар  2018-05-25  ultra   \n",
       "1       23257.000   52           0    Краснодар  2018-05-25  ultra   \n",
       "2       14016.000   52           0    Краснодар  2018-05-25  ultra   \n",
       "3       14070.000   52           0    Краснодар  2018-05-25  ultra   \n",
       "4       14581.000   52           0    Краснодар  2018-05-25  ultra   \n",
       "...           ...  ...         ...          ...         ...    ...   \n",
       "3209    20604.000   68  2018-10-25  Владикавказ  2018-07-19  smart   \n",
       "3210     1848.000   35           0        Пермь  2018-09-27  smart   \n",
       "3211    17809.000   35           0        Пермь  2018-09-27  smart   \n",
       "3212    17984.000   35           0        Пермь  2018-09-27  smart   \n",
       "3213    13077.000   35           0        Пермь  2018-09-27  smart   \n",
       "\n",
       "      month_of_registration  messages_included  mb_per_month_included  \\\n",
       "0                         5               1000                  30720   \n",
       "1                         5               1000                  30720   \n",
       "2                         5               1000                  30720   \n",
       "3                         5               1000                  30720   \n",
       "4                         5               1000                  30720   \n",
       "...                     ...                ...                    ...   \n",
       "3209                      7                 50                  15360   \n",
       "3210                      9                 50                  15360   \n",
       "3211                      9                 50                  15360   \n",
       "3212                      9                 50                  15360   \n",
       "3213                      9                 50                  15360   \n",
       "\n",
       "      minutes_included  rub_monthly_fee  rub_per_gb  rub_per_message  \\\n",
       "0                 3000             1950         150                1   \n",
       "1                 3000             1950         150                1   \n",
       "2                 3000             1950         150                1   \n",
       "3                 3000             1950         150                1   \n",
       "4                 3000             1950         150                1   \n",
       "...                ...              ...         ...              ...   \n",
       "3209               500              550         200                3   \n",
       "3210               500              550         200                3   \n",
       "3211               500              550         200                3   \n",
       "3212               500              550         200                3   \n",
       "3213               500              550         200                3   \n",
       "\n",
       "      rub_per_minute  revenue moscow_is_not_russia  \n",
       "0                  1 1950.000               Россия  \n",
       "1                  1 1950.000               Россия  \n",
       "2                  1 1950.000               Россия  \n",
       "3                  1 1950.000               Россия  \n",
       "4                  1 1950.000               Россия  \n",
       "...              ...      ...                  ...  \n",
       "3209               3 1574.219               Россия  \n",
       "3210               3  550.000               Россия  \n",
       "3211               3 1028.320               Россия  \n",
       "3212               3 1425.500               Россия  \n",
       "3213               3  598.000               Россия  \n",
       "\n",
       "[3214 rows x 21 columns]"
      ]
     },
     "execution_count": 37,
     "metadata": {},
     "output_type": "execute_result"
    }
   ],
   "source": [
    "df"
   ]
  },
  {
   "cell_type": "markdown",
   "metadata": {},
   "source": [
    "#### Промежуточные выводы по анализу количества сообщений"
   ]
  },
  {
   "cell_type": "markdown",
   "metadata": {},
   "source": [
    "Среднее количество отправленных сообщений у абонентов тарифа Ultra больше, чем у абонентов тарифа Smart. Медиана и среднее у тарифа Smart в районе - 32 сообщений. У тарифа Ultra в районе 50 сообщений в месяц. Нулевая гипотеза о равенстве двух средних отклонена. \n",
    "\n",
    "Минимальная активность у абонентов тарифа Smart приходится на январь, у тарифа Ultra на февраль. В течение года у тарифа Ultra наблюдается увеличение количества сообщений. Можно говорить о линейной зависимости. Пиковые значения у обоих тарифов приходятся на декабрь."
   ]
  },
  {
   "cell_type": "markdown",
   "metadata": {},
   "source": [
    "### Анализ объема трафика"
   ]
  },
  {
   "cell_type": "code",
   "execution_count": 26,
   "metadata": {},
   "outputs": [
    {
     "name": "stdout",
     "output_type": "stream",
     "text": [
      "Описательная статистика по столбцу mb_used_sum\n",
      "smart_mean is 16229\n",
      "ultra_mean is 19487\n",
      "smart_var is 34545911\n",
      "ultra_var is 101935621\n",
      "smart_var is 5878\n",
      "ultra_var is 10096\n"
     ]
    }
   ],
   "source": [
    "descriptive_statistics('mb_used_sum')"
   ]
  },
  {
   "cell_type": "code",
   "execution_count": 27,
   "metadata": {},
   "outputs": [
    {
     "name": "stderr",
     "output_type": "stream",
     "text": [
      "100%|██████████| 10000/10000 [00:01<00:00, 5664.45it/s]\n"
     ]
    },
    {
     "data": {
      "image/png": "[encoded data removed]",
      "text/plain": [
       "<Figure size 432x288 with 1 Axes>"
      ]
     },
     "metadata": {
      "needs_background": "light"
     },
     "output_type": "display_data"
    },
    {
     "data": {
      "image/png": "[encoded data removed]",
      "text/plain": [
       "<Figure size 432x288 with 1 Axes>"
      ]
     },
     "metadata": {
      "needs_background": "light"
     },
     "output_type": "display_data"
    },
    {
     "data": {
      "image/png": "[encoded data removed]",
      "text/plain": [
       "<Figure size 432x288 with 1 Axes>"
      ]
     },
     "metadata": {
      "needs_background": "light"
     },
     "output_type": "display_data"
    },
    {
     "data": {
      "image/png": "[encoded data removed]",
      "text/plain": [
       "<Figure size 1080x360 with 1 Axes>"
      ]
     },
     "metadata": {
      "needs_background": "light"
     },
     "output_type": "display_data"
    }
   ],
   "source": [
    "my_plot(df,'mb_used_sum', 'hist', 'Распределение потребляемого трафика по двум тарифам', 'Использовано mb', 'Частота', 0.5)\n",
    "my_plot(df,'mb_used_sum', 'bar', 'Распределение потребляемого трафика по двум тарифам', 'Месяц', 'Использовано mb', 0.5)\n",
    "my_plot(df,'mb_used_sum', 'box', 'Распределение потребляемого трафика по двум тарифам', 'Тариф', 'Использовано mb', 1)\n",
    "mean_distribution('mb_used_sum')"
   ]
  },
  {
   "cell_type": "code",
   "execution_count": 28,
   "metadata": {},
   "outputs": [
    {
     "name": "stdout",
     "output_type": "stream",
     "text": [
      "H0 - данные в тарифе smart по столбцу mb_used_sum распределены нормально\n",
      "H1 - данные в тарифе smart по столбцу mb_used_sum распределены не нормально\n",
      "\n",
      "p-value 7.090953157984359e-09\n",
      "Отвергаем нулевую гипотезу о нормальности распределения тарифа smart\n",
      "p-value 1.1720582051566453e-06\n",
      "Отвергаем нулевую гипотезу о нормальности распределения тарифа ultra\n",
      "\n",
      "H0 - дисперсии выборок по столбцу mb_used_sum равны\n",
      "H1 - дисперсии выборок по столбцу mb_used_sum не равны\n",
      "\n",
      "p-значение: 2.926512439545603e-94\n",
      "Отвергаем нулевую гипотезу о равенстве дисперсии выборок\n",
      "\n",
      "H0 - средние значения тарифов по столбцу mb_used_sum равны\n",
      "H1 - средние двух тарифов по столбцу mb_used_sum не равны\n",
      "\n",
      "p-value 1.6208023612357413e-20\n",
      "Отвергаем нулевую гипотезу о равенстве двух средних\n"
     ]
    }
   ],
   "source": [
    "distribution_ttest('mb_used_sum', 0.05)"
   ]
  },
  {
   "cell_type": "markdown",
   "metadata": {},
   "source": [
    "#### Промежуточные выводы по анализу объёма трафика"
   ]
  },
  {
   "cell_type": "markdown",
   "metadata": {},
   "source": [
    "Среднее количество потраченных мегабайт у абонентов тарифа Ultra больше, чем у абонентов тарифа Smart. Медиана и среднее у тарифа Smart в районе - 15,8 гб. У тарифа Ultra в районе 19 гб в месяц. Нулевая гипотеза о равенстве двух средних отклонена. \n",
    "\n",
    "Минимальная активность у абонентов тарифа Smart приходится на январь, у тарифа Ultra на февраль. В течение года. Пиковые значения у обоих тарифов приходятся на декабрь. Также стоит ответить высокую активность в летний период. "
   ]
  },
  {
   "cell_type": "markdown",
   "metadata": {},
   "source": [
    "<div class=\"alert alert-success\">\n",
    "<b>Комментарий ревьюера v1:</b>\n",
    "\n",
    "Хорошая аналитика, выводы и предположения. Наглядная и аккуратная визуализация данных. \n",
    "</div>\n"
   ]
  },
  {
   "cell_type": "markdown",
   "metadata": {},
   "source": [
    "## Проверка гипотез"
   ]
  },
  {
   "cell_type": "markdown",
   "metadata": {},
   "source": [
    "Гипотезы:\n",
    "1. Средняя выручка пользователей тарифов «Ультра» и «Смарт» различается;\n",
    "2. Средняя выручка пользователей из Москвы отличается от выручки пользователей из других регионов;"
   ]
  },
  {
   "cell_type": "markdown",
   "metadata": {},
   "source": [
    "### Проверка первой гипотезы\n",
    "\n",
    "Средняя выручка пользователей тарифов «Ультра» и «Смарт» различается.\n",
    "\n",
    "Н0 - Средняя выручка пользователей тарифов «Ультра» и «Смарт» равны, т.е. средние значения равны.\n",
    "\n",
    "Н1 - Средняя выручка пользователей тарифов «Ультра» и «Смарт» не равны, т.е. средние значения не равны.\n",
    "\n",
    "Для проверки гипотезы будет использоваться критерий p-value."
   ]
  },
  {
   "cell_type": "code",
   "execution_count": 29,
   "metadata": {},
   "outputs": [
    {
     "name": "stdout",
     "output_type": "stream",
     "text": [
      "H0 - данные в тарифе smart по столбцу revenue распределены нормально\n",
      "H1 - данные в тарифе smart по столбцу revenue распределены не нормально\n",
      "\n",
      "p-value 4.90454462513686e-44\n",
      "Отвергаем нулевую гипотезу о нормальности распределения тарифа smart\n",
      "p-value 0.0\n",
      "Отвергаем нулевую гипотезу о нормальности распределения тарифа ultra\n",
      "\n",
      "H0 - дисперсии выборок по столбцу revenue равны\n",
      "H1 - дисперсии выборок по столбцу revenue не равны\n",
      "\n",
      "p-значение: 3.137244045710333e-115\n",
      "Отвергаем нулевую гипотезу о равенстве дисперсии выборок\n",
      "\n",
      "H0 - средние значения тарифов по столбцу revenue равны\n",
      "H1 - средние двух тарифов по столбцу revenue не равны\n",
      "\n",
      "p-value 8.931402711366754e-296\n",
      "Отвергаем нулевую гипотезу о равенстве двух средних\n"
     ]
    }
   ],
   "source": [
    "distribution_ttest('revenue', 0.05)"
   ]
  },
  {
   "cell_type": "code",
   "execution_count": 30,
   "metadata": {},
   "outputs": [
    {
     "name": "stdout",
     "output_type": "stream",
     "text": [
      "Описательная статистика по столбцу revenue\n",
      "smart_mean is 1233\n",
      "ultra_mean is 2061\n",
      "smart_var is 620453\n",
      "ultra_var is 126953\n",
      "smart_var is 788\n",
      "ultra_var is 356\n"
     ]
    }
   ],
   "source": [
    "descriptive_statistics('revenue')"
   ]
  },
  {
   "cell_type": "code",
   "execution_count": 31,
   "metadata": {},
   "outputs": [
    {
     "data": {
      "image/png": "[encoded data removed]",
      "text/plain": [
       "<Figure size 432x288 with 1 Axes>"
      ]
     },
     "metadata": {
      "needs_background": "light"
     },
     "output_type": "display_data"
    },
    {
     "data": {
      "image/png": "[encoded data removed]",
      "text/plain": [
       "<Figure size 432x288 with 1 Axes>"
      ]
     },
     "metadata": {
      "needs_background": "light"
     },
     "output_type": "display_data"
    },
    {
     "data": {
      "image/png": "[encoded data removed]",
      "text/plain": [
       "<Figure size 432x288 with 1 Axes>"
      ]
     },
     "metadata": {
      "needs_background": "light"
     },
     "output_type": "display_data"
    }
   ],
   "source": [
    "my_plot(df,'revenue', 'bar', 'Распределение выручки по двум тарифам', 'Месяц', 'Выручка', 0.5)\n",
    "my_plot(df,'revenue', 'hist', 'Распределение выручки по двум тарифам', 'Выручка', 'Частота', 0.5)\n",
    "my_plot(df,'revenue', 'box', 'Распределение выручки по двум тарифам', 'Тариф', 'Revenue', 1)"
   ]
  },
  {
   "cell_type": "markdown",
   "metadata": {},
   "source": [
    "#### Выводы по проверке первой гипотезы"
   ]
  },
  {
   "cell_type": "markdown",
   "metadata": {},
   "source": [
    "Пользователи тарифа Ultra практически все находятся в рамках абонентской платы - 1950 рублей. Нет выбросов и широких доверительных интервалов. Все пользователи тарифа smart выходят за рамки абонентской платы (график. №3). В течение года выручка от пользователей тарифа smart увеличивается. В среднем пользователи тарифа Smart платят 900 рублей. То есть переплачивают практически в два раза. "
   ]
  },
  {
   "cell_type": "markdown",
   "metadata": {},
   "source": [
    "### Проверка второй гипотезы\n",
    "\n",
    "Средняя выручка пользователей из Москвы отличается от выручки пользователей из других регионов\n",
    "\n",
    "Н0 - средняя выручка пользователей из Москвы не отличается от выручки пользователей из других регионов, т.е. средние значения равны.\n",
    "\n",
    "Н1 - средняя выручка пользователей из Москвы отличается от выручки пользователей из других регионов, т.е. средние значения не равны.\n",
    "\n",
    "Для проверки гипотезы будет использоваться критерий p-value."
   ]
  },
  {
   "cell_type": "code",
   "execution_count": 32,
   "metadata": {},
   "outputs": [
    {
     "name": "stdout",
     "output_type": "stream",
     "text": [
      "p-value 0.4549775646471024\n",
      "Не удалось отвергнуть нулевую гипотезу\n"
     ]
    }
   ],
   "source": [
    "Moscow = df.loc[df['city'] == 'Москва']['revenue']\n",
    "Russia = df.loc[df['city'] != 'Москва']['revenue']\n",
    "results = st.ttest_ind(Moscow, Russia, equal_var = False)\n",
    "print('p-value', results.pvalue)\n",
    "if results.pvalue < 0.05:\n",
    "    print('Отвергаем нулевую гипотезу о равенстве двух средних')\n",
    "else:\n",
    "    print('Не удалось отвергнуть нулевую гипотезу')"
   ]
  },
  {
   "cell_type": "code",
   "execution_count": 33,
   "metadata": {},
   "outputs": [
    {
     "data": {
      "text/html": [
       "<div>\n",
       "<style scoped>\n",
       "    .dataframe tbody tr th:only-of-type {\n",
       "        vertical-align: middle;\n",
       "    }\n",
       "\n",
       "    .dataframe tbody tr th {\n",
       "        vertical-align: top;\n",
       "    }\n",
       "\n",
       "    .dataframe thead th {\n",
       "        text-align: right;\n",
       "    }\n",
       "</style>\n",
       "<table border=\"1\" class=\"dataframe\">\n",
       "  <thead>\n",
       "    <tr style=\"text-align: right;\">\n",
       "      <th>moscow_is_not_russia</th>\n",
       "      <th>Москва</th>\n",
       "      <th>Россия</th>\n",
       "    </tr>\n",
       "  </thead>\n",
       "  <tbody>\n",
       "    <tr>\n",
       "      <td>count</td>\n",
       "      <td>12.000</td>\n",
       "      <td>12.000</td>\n",
       "    </tr>\n",
       "    <tr>\n",
       "      <td>mean</td>\n",
       "      <td>1475.526</td>\n",
       "      <td>1387.356</td>\n",
       "    </tr>\n",
       "    <tr>\n",
       "      <td>std</td>\n",
       "      <td>118.561</td>\n",
       "      <td>221.800</td>\n",
       "    </tr>\n",
       "    <tr>\n",
       "      <td>min</td>\n",
       "      <td>1152.127</td>\n",
       "      <td>850.619</td>\n",
       "    </tr>\n",
       "    <tr>\n",
       "      <td>25%</td>\n",
       "      <td>1451.482</td>\n",
       "      <td>1331.921</td>\n",
       "    </tr>\n",
       "    <tr>\n",
       "      <td>50%</td>\n",
       "      <td>1486.759</td>\n",
       "      <td>1442.277</td>\n",
       "    </tr>\n",
       "    <tr>\n",
       "      <td>75%</td>\n",
       "      <td>1540.570</td>\n",
       "      <td>1505.972</td>\n",
       "    </tr>\n",
       "    <tr>\n",
       "      <td>max</td>\n",
       "      <td>1601.387</td>\n",
       "      <td>1709.777</td>\n",
       "    </tr>\n",
       "  </tbody>\n",
       "</table>\n",
       "</div>"
      ],
      "text/plain": [
       "moscow_is_not_russia   Москва   Россия\n",
       "count                  12.000   12.000\n",
       "mean                 1475.526 1387.356\n",
       "std                   118.561  221.800\n",
       "min                  1152.127  850.619\n",
       "25%                  1451.482 1331.921\n",
       "50%                  1486.759 1442.277\n",
       "75%                  1540.570 1505.972\n",
       "max                  1601.387 1709.777"
      ]
     },
     "execution_count": 33,
     "metadata": {},
     "output_type": "execute_result"
    }
   ],
   "source": [
    "def city_name(data): \n",
    "    city = data['city']\n",
    "    if city == 'Москва':\n",
    "        return 'Москва'\n",
    "    else:\n",
    "        return 'Россия'\n",
    "df['moscow_is_not_russia'] = df.apply(city_name, axis=1)\n",
    "moscow_is_not_russia = df.pivot_table(index='moscow_is_not_russia', \n",
    "                                      columns='month', \n",
    "                                      values='revenue', \n",
    "                                      aggfunc='mean').T\n",
    "\n",
    "df.pivot_table(index='moscow_is_not_russia', columns='month', values='revenue', aggfunc='mean').T.describe()"
   ]
  },
  {
   "cell_type": "code",
   "execution_count": 34,
   "metadata": {},
   "outputs": [
    {
     "name": "stderr",
     "output_type": "stream",
     "text": [
      "100%|██████████| 10000/10000 [00:01<00:00, 6077.59it/s]\n"
     ]
    },
    {
     "data": {
      "image/png": "[encoded data removed]",
      "text/plain": [
       "<Figure size 1080x360 with 1 Axes>"
      ]
     },
     "metadata": {
      "needs_background": "light"
     },
     "output_type": "display_data"
    }
   ],
   "source": [
    "Moscow_table = []\n",
    "Russia_table = []\n",
    "Moscow = df.loc[df['city'] == 'Москва']['revenue']\n",
    "Russia = df.loc[df['city'] != 'Москва']['revenue']\n",
    "len_moscow = len(Moscow) \n",
    "len_russia = len(Russia)\n",
    "for _ in tqdm(range(10000)):\n",
    "    sample_moscow = np.random.choice(Moscow, size=len_moscow, replace=True)\n",
    "    sample_russia = np.random.choice(Russia, size=len_russia, replace=True)\n",
    "    Moscow_table.append(sample_moscow.mean())\n",
    "    Russia_table.append(sample_russia.mean())\n",
    "fig, ax = plt.subplots(nrows=1, ncols=1, figsize=(15,5))\n",
    "ax.set_title('Группы A и B (распределение средних по выручке). Фиолетовый цвет - Москва, Оранжевый - Россия')\n",
    "ax.hist(Moscow_table, bins=100, color='blueviolet', alpha=0.5)\n",
    "ax.hist(Russia_table, bins=100, color='orange', alpha=0.5)\n",
    "fig.tight_layout()"
   ]
  },
  {
   "cell_type": "code",
   "execution_count": 35,
   "metadata": {
    "scrolled": true
   },
   "outputs": [
    {
     "data": {
      "image/png": "[encoded data removed]",
      "text/plain": [
       "<Figure size 432x288 with 1 Axes>"
      ]
     },
     "metadata": {
      "needs_background": "light"
     },
     "output_type": "display_data"
    },
    {
     "data": {
      "image/png": "[encoded data removed]",
      "text/plain": [
       "<Figure size 432x288 with 1 Axes>"
      ]
     },
     "metadata": {
      "needs_background": "light"
     },
     "output_type": "display_data"
    }
   ],
   "source": [
    "moscow_is_not_russia.plot(kind='hist', alpha=0.5, grid=True)\n",
    "plt.title('Распределение выручки. Сравнение Москвы и России')\n",
    "plt.xlabel('Выручка')\n",
    "plt.ylabel('Частота')\n",
    "plt.show()\n",
    "moscow_is_not_russia.plot(kind='bar', alpha=0.5, grid=True)\n",
    "plt.title('Распределение выручки. Сравнение Москвы и России')\n",
    "plt.xlabel('Выручка')\n",
    "plt.ylabel('Частота')\n",
    "plt.show()"
   ]
  },
  {
   "cell_type": "markdown",
   "metadata": {},
   "source": [
    "#### Промежуточные выводы"
   ]
  },
  {
   "cell_type": "markdown",
   "metadata": {},
   "source": [
    "Не удалось отвергнуть нулевую гипотезу. Москва цэ Россия. "
   ]
  },
  {
   "cell_type": "markdown",
   "metadata": {},
   "source": [
    "<div class=\"alert alert-success\">\n",
    "<b>Комментарий ревьюера v1:</b>\n",
    "\n",
    "Гипотезы сформулированы и протестированы на всех возможных тестах верно.\n",
    "\n",
    "</div>\n"
   ]
  },
  {
   "cell_type": "markdown",
   "metadata": {},
   "source": [
    "# Общий вывод по проекту"
   ]
  },
  {
   "cell_type": "markdown",
   "metadata": {},
   "source": [
    "Средние значения у абонентов тарифа smart и ultra различаются. Длительность разговора, количество сообщений и потраченных гб у абонентов тарифа Ultra всегда превышает абонентов тарифа smart. Все гипотезы о равенстве средних отклонены\n",
    "\n",
    "Высокая активность абонентов обоих тарифов наблюдатся в летний и предногодний сезон. Первый квартал 2018 года показал самый низкий результат по активности абонентов. \n",
    "\n",
    "Выручка с пользователей тарифа Ultra не меняется в течение года - 1950 рублей. Практически никто не выходит за рамки тарифа. \n",
    "Выручка с пользователей тарифа smart увеличивается в течение года. Все пользователи выходят за рамки абонентской платы. В среднем пользователи тарифа Smart платят 900 рублей. То есть переплачивают практически в два раза. \n",
    "\n",
    "Вывод: smart choise is tariff smart"
   ]
  },
  {
   "cell_type": "markdown",
   "metadata": {},
   "source": [
    "<div class=\"alert alert-success\">\n",
    "<b>Комментарий ревьюера v1:</b>\n",
    "\n",
    "Отлично! Общие выводы и аргументация для них сформулированы кратко и по делу.\n",
    "\n",
    "</div>"
   ]
  }
 ],
 "metadata": {
  "ExecuteTimeLog": [
   {
    "duration": 1003,
    "start_time": "2021-08-05T16:59:36.126Z"
   },
   {
    "duration": 416,
    "start_time": "2021-08-05T16:59:37.130Z"
   },
   {
    "duration": 104,
    "start_time": "2021-08-05T16:59:37.548Z"
   },
   {
    "duration": 6,
    "start_time": "2021-08-05T16:59:37.653Z"
   },
   {
    "duration": 494,
    "start_time": "2021-08-05T16:59:37.661Z"
   },
   {
    "duration": 502,
    "start_time": "2021-08-05T16:59:38.157Z"
   },
   {
    "duration": 75,
    "start_time": "2021-08-05T16:59:38.661Z"
   },
   {
    "duration": 445,
    "start_time": "2021-08-05T16:59:38.739Z"
   },
   {
    "duration": 388,
    "start_time": "2021-08-05T16:59:39.186Z"
   },
   {
    "duration": 31,
    "start_time": "2021-08-05T16:59:39.575Z"
   },
   {
    "duration": 147,
    "start_time": "2021-08-05T16:59:39.608Z"
   },
   {
    "duration": 562,
    "start_time": "2021-08-05T16:59:39.756Z"
   },
   {
    "duration": 4,
    "start_time": "2021-08-05T16:59:40.320Z"
   },
   {
    "duration": 173,
    "start_time": "2021-08-05T16:59:40.326Z"
   },
   {
    "duration": 4,
    "start_time": "2021-08-05T16:59:40.501Z"
   },
   {
    "duration": 19,
    "start_time": "2021-08-05T16:59:40.507Z"
   },
   {
    "duration": 7,
    "start_time": "2021-08-05T16:59:40.528Z"
   },
   {
    "duration": 20,
    "start_time": "2021-08-05T16:59:40.536Z"
   },
   {
    "duration": 34,
    "start_time": "2021-08-05T16:59:40.558Z"
   },
   {
    "duration": 25,
    "start_time": "2021-08-05T16:59:40.594Z"
   },
   {
    "duration": 3399,
    "start_time": "2021-08-05T16:59:40.621Z"
   },
   {
    "duration": 12,
    "start_time": "2021-08-05T16:59:44.022Z"
   },
   {
    "duration": 7,
    "start_time": "2021-08-05T16:59:44.037Z"
   },
   {
    "duration": 3514,
    "start_time": "2021-08-05T16:59:44.046Z"
   },
   {
    "duration": 23,
    "start_time": "2021-08-05T16:59:47.562Z"
   },
   {
    "duration": 7,
    "start_time": "2021-08-05T16:59:47.587Z"
   },
   {
    "duration": 3445,
    "start_time": "2021-08-05T16:59:47.596Z"
   },
   {
    "duration": 12,
    "start_time": "2021-08-05T16:59:51.043Z"
   },
   {
    "duration": 29,
    "start_time": "2021-08-05T16:59:51.057Z"
   },
   {
    "duration": 7,
    "start_time": "2021-08-05T16:59:51.088Z"
   },
   {
    "duration": 790,
    "start_time": "2021-08-05T16:59:51.097Z"
   },
   {
    "duration": 8,
    "start_time": "2021-08-05T16:59:51.889Z"
   },
   {
    "duration": 63,
    "start_time": "2021-08-05T16:59:51.898Z"
   },
   {
    "duration": 2701,
    "start_time": "2021-08-05T16:59:51.963Z"
   },
   {
    "duration": 497,
    "start_time": "2021-08-05T16:59:54.666Z"
   },
   {
    "duration": 946,
    "start_time": "2021-08-05T17:00:50.121Z"
   },
   {
    "duration": 412,
    "start_time": "2021-08-05T17:00:51.069Z"
   },
   {
    "duration": 110,
    "start_time": "2021-08-05T17:00:51.483Z"
   },
   {
    "duration": 6,
    "start_time": "2021-08-05T17:00:51.595Z"
   },
   {
    "duration": 525,
    "start_time": "2021-08-05T17:00:51.602Z"
   },
   {
    "duration": 440,
    "start_time": "2021-08-05T17:00:52.129Z"
   },
   {
    "duration": 68,
    "start_time": "2021-08-05T17:00:52.571Z"
   },
   {
    "duration": 437,
    "start_time": "2021-08-05T17:00:52.640Z"
   },
   {
    "duration": 400,
    "start_time": "2021-08-05T17:00:53.085Z"
   },
   {
    "duration": 22,
    "start_time": "2021-08-05T17:00:53.487Z"
   },
   {
    "duration": 150,
    "start_time": "2021-08-05T17:00:53.510Z"
   },
   {
    "duration": 289,
    "start_time": "2021-08-05T17:00:53.661Z"
   },
   {
    "duration": 5,
    "start_time": "2021-08-05T17:00:53.952Z"
   },
   {
    "duration": 179,
    "start_time": "2021-08-05T17:00:53.958Z"
   },
   {
    "duration": 4,
    "start_time": "2021-08-05T17:00:54.139Z"
   },
   {
    "duration": 5,
    "start_time": "2021-08-05T17:00:54.145Z"
   },
   {
    "duration": 5,
    "start_time": "2021-08-05T17:00:54.151Z"
   },
   {
    "duration": 30,
    "start_time": "2021-08-05T17:00:54.158Z"
   },
   {
    "duration": 11,
    "start_time": "2021-08-05T17:00:54.190Z"
   },
   {
    "duration": 20,
    "start_time": "2021-08-05T17:00:54.202Z"
   },
   {
    "duration": 3494,
    "start_time": "2021-08-05T17:00:54.223Z"
   },
   {
    "duration": 11,
    "start_time": "2021-08-05T17:00:57.719Z"
   },
   {
    "duration": 7,
    "start_time": "2021-08-05T17:00:57.732Z"
   },
   {
    "duration": 3464,
    "start_time": "2021-08-05T17:00:57.740Z"
   },
   {
    "duration": 12,
    "start_time": "2021-08-05T17:01:01.205Z"
   },
   {
    "duration": 8,
    "start_time": "2021-08-05T17:01:01.219Z"
   },
   {
    "duration": 3504,
    "start_time": "2021-08-05T17:01:01.230Z"
   },
   {
    "duration": 11,
    "start_time": "2021-08-05T17:01:04.736Z"
   },
   {
    "duration": 10,
    "start_time": "2021-08-05T17:01:04.749Z"
   },
   {
    "duration": 29,
    "start_time": "2021-08-05T17:01:04.761Z"
   },
   {
    "duration": 810,
    "start_time": "2021-08-05T17:01:04.792Z"
   },
   {
    "duration": 8,
    "start_time": "2021-08-05T17:01:05.604Z"
   },
   {
    "duration": 80,
    "start_time": "2021-08-05T17:01:05.614Z"
   },
   {
    "duration": 2596,
    "start_time": "2021-08-05T17:01:05.696Z"
   },
   {
    "duration": 490,
    "start_time": "2021-08-05T17:01:08.294Z"
   },
   {
    "duration": 617,
    "start_time": "2021-08-05T17:01:12.160Z"
   },
   {
    "duration": 21,
    "start_time": "2021-08-05T17:01:47.036Z"
   }
  ],
  "kernelspec": {
   "display_name": "Python 3 (ipykernel)",
   "language": "python",
   "name": "python3"
  },
  "language_info": {
   "codemirror_mode": {
    "name": "ipython",
    "version": 3
   },
   "file_extension": ".py",
   "mimetype": "text/x-python",
   "name": "python",
   "nbconvert_exporter": "python",
   "pygments_lexer": "ipython3",
   "version": "3.9.5"
  },
  "toc": {
   "base_numbering": 1,
   "nav_menu": {
    "height": "512px",
    "width": "519px"
   },
   "number_sections": true,
   "sideBar": true,
   "skip_h1_title": true,
   "title_cell": "СодержаниеTable of Contents",
   "title_sidebar": "Contents",
   "toc_cell": true,
   "toc_position": {
    "height": "calc(100% - 180px)",
    "left": "10px",
    "top": "150px",
    "width": "165px"
   },
   "toc_section_display": true,
   "toc_window_display": true
  }
 },
 "nbformat": 4,
 "nbformat_minor": 2
}
